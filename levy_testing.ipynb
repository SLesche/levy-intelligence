{
 "cells": [
  {
   "cell_type": "code",
   "execution_count": 2,
   "id": "d11cbae0",
   "metadata": {},
   "outputs": [
    {
     "name": "stdout",
     "output_type": "stream",
     "text": [
      "WARNING:tensorflow:From c:\\Users\\Sven\\anaconda3\\envs\\bayesflow\\Lib\\site-packages\\keras\\src\\losses.py:2976: The name tf.losses.sparse_softmax_cross_entropy is deprecated. Please use tf.compat.v1.losses.sparse_softmax_cross_entropy instead.\n",
      "\n",
      "WARNING:tensorflow:From c:\\Users\\Sven\\anaconda3\\envs\\bayesflow\\Lib\\site-packages\\tensorflow_probability\\python\\internal\\backend\\numpy\\_utils.py:48: The name tf.logging.TaskLevelStatusMessage is deprecated. Please use tf.compat.v1.logging.TaskLevelStatusMessage instead.\n",
      "\n"
     ]
    },
    {
     "name": "stderr",
     "output_type": "stream",
     "text": [
      "WARNING:tensorflow:From c:\\Users\\Sven\\anaconda3\\envs\\bayesflow\\Lib\\site-packages\\tensorflow_probability\\python\\internal\\backend\\numpy\\_utils.py:48: The name tf.logging.TaskLevelStatusMessage is deprecated. Please use tf.compat.v1.logging.TaskLevelStatusMessage instead.\n",
      "\n"
     ]
    },
    {
     "name": "stdout",
     "output_type": "stream",
     "text": [
      "WARNING:tensorflow:From c:\\Users\\Sven\\anaconda3\\envs\\bayesflow\\Lib\\site-packages\\tensorflow_probability\\python\\internal\\backend\\numpy\\_utils.py:48: The name tf.control_flow_v2_enabled is deprecated. Please use tf.compat.v1.control_flow_v2_enabled instead.\n",
      "\n"
     ]
    },
    {
     "name": "stderr",
     "output_type": "stream",
     "text": [
      "WARNING:tensorflow:From c:\\Users\\Sven\\anaconda3\\envs\\bayesflow\\Lib\\site-packages\\tensorflow_probability\\python\\internal\\backend\\numpy\\_utils.py:48: The name tf.control_flow_v2_enabled is deprecated. Please use tf.compat.v1.control_flow_v2_enabled instead.\n",
      "\n",
      "c:\\Users\\Sven\\anaconda3\\envs\\bayesflow\\Lib\\site-packages\\bayesflow\\trainers.py:27: TqdmWarning: IProgress not found. Please update jupyter and ipywidgets. See https://ipywidgets.readthedocs.io/en/stable/user_install.html\n",
      "  from tqdm.autonotebook import tqdm\n"
     ]
    }
   ],
   "source": [
    "import time\n",
    "import pickle\n",
    "import matplotlib.pyplot as plt\n",
    "import numpy as np\n",
    "import seaborn as sns\n",
    "from scipy.stats import levy_stable\n",
    "import tensorflow as tf\n",
    "\n",
    "import bayesflow as bf"
   ]
  },
  {
   "cell_type": "code",
   "execution_count": 3,
   "id": "574ff5dd",
   "metadata": {},
   "outputs": [],
   "source": [
    "# Suppress scientific notation for floats\n",
    "np.set_printoptions(suppress=True)"
   ]
  },
  {
   "cell_type": "code",
   "execution_count": 4,
   "id": "d6582284",
   "metadata": {},
   "outputs": [
    {
     "name": "stdout",
     "output_type": "stream",
     "text": [
      "Num GPUs Available:  0\n"
     ]
    }
   ],
   "source": [
    "print(\"Num GPUs Available: \", len(tf.config.list_physical_devices('GPU')))"
   ]
  },
  {
   "cell_type": "code",
   "execution_count": 5,
   "id": "18464e91",
   "metadata": {},
   "outputs": [],
   "source": [
    "def simulate_levy_trial(a=1, z=0.5, v=0, t=0.2, alpha=2.0, dt=0.001):\n",
    "    \"\"\"\n",
    "    Simulates the response time for one trial from a Lévy-Flight Process\n",
    "     * param a:     threshold separation (a>0)\n",
    "     * param z:     relative Starting Point (0<z<1)\n",
    "     * param v:     drift\n",
    "     * param t:     non-decisio-time (t>0)\n",
    "     * param alpha: stability parameter (0<a<2)\n",
    "     * param dt:    step size for simulation (dt>0)\n",
    "    \n",
    "    The function returns a simulated response time. A negative sign indicates a response at the lower threshold\n",
    "    \"\"\"\n",
    "    \n",
    "    scale = np.power(dt,(1/alpha)) / np.sqrt(2)\n",
    "    \n",
    "    bin_size = np.int_(1/dt)  # The decision path is simulated in bins of 1 second\n",
    "    start = [a*z]\n",
    "    cnt = 0\n",
    "\n",
    "    while(True):\n",
    "        path = np.array(start + np.cumsum(v*dt + levy_stable.rvs(alpha, 0, scale=scale, size=bin_size)))\n",
    "        if np.any(path < 0): \n",
    "            cnt = cnt + np.min(np.where(path < 0))\n",
    "            return (-(t + cnt*dt)).astype(np.float32)\n",
    "        \n",
    "        if np.any(path > a): \n",
    "            cnt = cnt + np.min(np.where(path > a))\n",
    "            return (t + cnt*dt).astype(np.float32)\n",
    "        \n",
    "        start = path[-1]\n",
    "        cnt = cnt + bin_size"
   ]
  },
  {
   "cell_type": "code",
   "execution_count": 6,
   "id": "1e76ef02",
   "metadata": {},
   "outputs": [],
   "source": [
    "RNG = np.random.default_rng(2024)"
   ]
  },
  {
   "cell_type": "code",
   "execution_count": 10,
   "id": "579a5aea",
   "metadata": {},
   "outputs": [],
   "source": [
    "def LF_prior():\n",
    "    \"\"\"\n",
    "    Draws one set of marginally informative priors for the 7-parameter Levy-Flight-Model\n",
    "    v1 nad v2 represent drift rates for two different stimulus types, \n",
    "    with positive and negative average slopes of evidence accumulation, respectively.\n",
    "    \n",
    "    The function returns a np array with all parameter values\n",
    "    \"\"\"\n",
    "    a      = RNG.gamma(3, 1/3) + 0.1\n",
    "    z      = RNG.beta(5, 5)\n",
    "    v     = RNG.normal(3, 3) \n",
    "    t0     = RNG.gamma(1, 1/6) + 0.1\n",
    "    st0    = RNG.beta(1,2) * 2*t0\n",
    "    alpha  = RNG.beta (6, 2) * 2\n",
    "\n",
    "    return np.array([a, z, v, t0, st0, alpha]).astype(np.float32)"
   ]
  },
  {
   "cell_type": "code",
   "execution_count": 11,
   "id": "f87a42e8",
   "metadata": {},
   "outputs": [],
   "source": [
    "PARAM_NAMES = ['a', 'z', 'v', 't', 'st', 'alpha']"
   ]
  },
  {
   "cell_type": "code",
   "execution_count": 12,
   "id": "7f149e89",
   "metadata": {},
   "outputs": [],
   "source": [
    "prior = bf.simulation.Prior(prior_fun=LF_prior, param_names=PARAM_NAMES)"
   ]
  },
  {
   "cell_type": "code",
   "execution_count": 13,
   "id": "3d92bc07",
   "metadata": {},
   "outputs": [],
   "source": [
    "def LF_experiment(theta, n_obs=500):\n",
    "    \"\"\"\n",
    "    Simulates response times for one participant of a lévy-flight experiment.\n",
    "     * param theta: numpy array with the parameters of the lfm (a,z,v,t,st,alpha) \n",
    "     * param n_obs: (maxiimum) number of observations\n",
    "    \n",
    "    The function returns a 2 by n_obs array, where the first column give the stimulus type (0,1)\n",
    "    and the second column gives teh response times (negative values indicate responese at the lower threshold)\n",
    "    \"\"\"\n",
    "    sim_data = np.zeros([n_obs,2])\n",
    "    cnd = np.zeros(n_obs)\n",
    "    sim_data[:,0] = cnd;\n",
    "    for i in range(n_obs):\n",
    "        sim_data[i,1] = simulate_levy_trial(\n",
    "                            a = theta[0], \n",
    "                            z = theta[1],\n",
    "                            v = theta[2],\n",
    "                            t = np.random.uniform(theta[3] - theta[4]/2, theta[3] + theta[4]/2), \n",
    "                            alpha = theta[5]\n",
    "                        )   \n",
    "    return sim_data.astype(np.float32)"
   ]
  },
  {
   "cell_type": "code",
   "execution_count": 10,
   "id": "8406bb9d",
   "metadata": {},
   "outputs": [
    {
     "name": "stderr",
     "output_type": "stream",
     "text": [
      "INFO:root:Performing 2 pilot runs with the lfm model...\n",
      "INFO:root:Shape of parameter batch after 2 pilot simulations: (batch_size = 2, 7)\n",
      "INFO:root:Shape of simulation batch after 2 pilot simulations: (batch_size = 2, 500, 2)\n",
      "INFO:root:No optional prior non-batchable context provided.\n",
      "INFO:root:No optional prior batchable context provided.\n",
      "INFO:root:No optional simulation non-batchable context provided.\n",
      "INFO:root:No optional simulation batchable context provided.\n"
     ]
    }
   ],
   "source": [
    "simulator = bf.simulation.Simulator(simulator_fun = LF_experiment)\n",
    "model = bf.simulation.GenerativeModel(prior=prior, simulator=simulator, name=\"lfm\")"
   ]
  },
  {
   "cell_type": "code",
   "execution_count": 11,
   "id": "42ebb863",
   "metadata": {},
   "outputs": [
    {
     "name": "stdout",
     "output_type": "stream",
     "text": [
      "WARNING:tensorflow:From C:\\Users\\Anderas Voss\\.conda\\envs\\bf\\lib\\site-packages\\keras\\src\\backend.py:873: The name tf.get_default_graph is deprecated. Please use tf.compat.v1.get_default_graph instead.\n",
      "\n"
     ]
    },
    {
     "name": "stderr",
     "output_type": "stream",
     "text": [
      "WARNING:tensorflow:From C:\\Users\\Anderas Voss\\.conda\\envs\\bf\\lib\\site-packages\\keras\\src\\backend.py:873: The name tf.get_default_graph is deprecated. Please use tf.compat.v1.get_default_graph instead.\n",
      "\n"
     ]
    }
   ],
   "source": [
    "summary_net = bf.networks.SetTransformer(input_dim=2, summary_dim=14, name=\"lfm_summary\")"
   ]
  },
  {
   "cell_type": "code",
   "execution_count": 12,
   "id": "cf35d386",
   "metadata": {},
   "outputs": [],
   "source": [
    "inference_net = bf.networks.InvertibleNetwork(\n",
    "    num_params=len(prior.param_names),\n",
    "    coupling_settings={\"dense_args\": dict(kernel_regularizer=None), \"dropout\": False},\n",
    "    name=\"lfm_inference\",\n",
    ")"
   ]
  },
  {
   "cell_type": "code",
   "execution_count": 13,
   "id": "e559e101",
   "metadata": {},
   "outputs": [],
   "source": [
    "amortizer = bf.amortizers.AmortizedPosterior(inference_net, summary_net, name=\"lfm_amortizer\")"
   ]
  },
  {
   "cell_type": "code",
   "execution_count": 14,
   "id": "61fce0b8",
   "metadata": {},
   "outputs": [],
   "source": [
    "#prior_means, prior_stds = prior.estimate_means_and_stds(n_draws=100000)\n",
    "#prior_means = np.round(prior_means, decimals=1)\n",
    "#prior_stds = np.round(prior_stds, decimals=1)\n",
    "#print(prior_means, prior_stds)"
   ]
  },
  {
   "cell_type": "code",
   "execution_count": 15,
   "id": "7a3d554e",
   "metadata": {},
   "outputs": [],
   "source": [
    "prior_means = [ 1.1,  0.5,  3.,  -3.,   0.3,  0.2,  1.5]\n",
    "prior_stds = [0.6, 0.2, 3.,  3.,  0.2, 0.2, 0.3]"
   ]
  },
  {
   "cell_type": "code",
   "execution_count": 16,
   "id": "110f210b",
   "metadata": {},
   "outputs": [],
   "source": [
    "def configurator(forward_dict, min_trials=200, max_trials=500):\n",
    "    \"\"\"Configure the output of the GenerativeModel for a BayesFlow setup.\"\"\"\n",
    "\n",
    "    # Prepare placeholder dict\n",
    "    out_dict = {}\n",
    "\n",
    "    # Extract simulated response times\n",
    "    data = forward_dict[\"sim_data\"]\n",
    "    num_trials = np.random.randint(min_trials, max_trials + 1)\n",
    "    idx = np.random.choice(range(data.shape[1]), size=num_trials, replace=False)\n",
    "    data = data[:, idx, :]\n",
    "\n",
    "    out_dict[\"summary_conditions\"] = data.astype(np.float32)\n",
    "\n",
    "\n",
    "    # Make inference network aware of varying numbers of trials\n",
    "    # We create a vector of shape (batch_size, 1) by repeating the sqrt(num_obs)\n",
    "    vec_num_obs = np.sqrt(num_trials) * np.ones((data.shape[0], 1))\n",
    "    out_dict[\"direct_conditions\"] = np.sqrt(vec_num_obs).astype(np.float32)\n",
    "\n",
    "    # Get data generating parameters\n",
    "    params = forward_dict[\"prior_draws\"].astype(np.float32)\n",
    "\n",
    "    # Standardize parameters\n",
    "    out_dict[\"parameters\"] = ((params - prior_means) / prior_stds).astype(np.float32)\n",
    "\n",
    "    return out_dict"
   ]
  },
  {
   "cell_type": "code",
   "execution_count": 17,
   "id": "878582c6",
   "metadata": {},
   "outputs": [
    {
     "name": "stderr",
     "output_type": "stream",
     "text": [
      "INFO:root:Initialized empty loss history.\n",
      "INFO:root:Initialized networks from scratch.\n",
      "INFO:root:Performing a consistency check with provided components...\n",
      "INFO:root:Done.\n"
     ]
    }
   ],
   "source": [
    "trainer = bf.trainers.Trainer(\n",
    "    generative_model=model, \n",
    "    amortizer=amortizer, \n",
    "    configurator=configurator,\n",
    "    default_lr=0.0001,\n",
    "    checkpoint_path=\"checkpoints//lfm_7p_new\"\n",
    ")"
   ]
  },
  {
   "cell_type": "code",
   "execution_count": 18,
   "id": "177b66a3",
   "metadata": {},
   "outputs": [
    {
     "name": "stdout",
     "output_type": "stream",
     "text": [
      "CPU times: total: 8min 29s\n",
      "Wall time: 8min 29s\n"
     ]
    }
   ],
   "source": [
    "%%time\n",
    "## Attention: Takes about 5 minutes per 1,000 data sets!\n",
    "## For training, at least 100,000 data sets are recommended (~16 hours)\n",
    "\n",
    "train_data = model(2000)\n",
    "\n",
    "f = open(\"training_data_lfm_7p_short.obj\",\"wb\")\n",
    "pickle.dump(train_data,f,protocol=4)\n",
    "f.close()"
   ]
  },
  {
   "cell_type": "code",
   "execution_count": 19,
   "id": "759ac051",
   "metadata": {},
   "outputs": [],
   "source": [
    "f = open(\"training_data_lfm_7p_short.obj\",\"rb\")\n",
    "train_data = pickle.load(f)\n",
    "f.close()\n"
   ]
  },
  {
   "cell_type": "code",
   "execution_count": 20,
   "id": "9d530849",
   "metadata": {},
   "outputs": [
    {
     "name": "stdout",
     "output_type": "stream",
     "text": [
      "Num GPUs Available:  0\n"
     ]
    }
   ],
   "source": [
    "print(\"Num GPUs Available: \", len(tf.config.list_physical_devices('GPU')))"
   ]
  },
  {
   "cell_type": "code",
   "execution_count": null,
   "id": "10dbec25",
   "metadata": {},
   "outputs": [
    {
     "data": {
      "application/vnd.jupyter.widget-view+json": {
       "model_id": "f0e15f425ea64d2babc2befb5936c8fe",
       "version_major": 2,
       "version_minor": 0
      },
      "text/plain": [
       "Training epoch 1:   0%|          | 0/100 [00:00<?, ?it/s]"
      ]
     },
     "metadata": {},
     "output_type": "display_data"
    },
    {
     "data": {
      "application/vnd.jupyter.widget-view+json": {
       "model_id": "6c4481603fb54b0ca23a5552437b7eea",
       "version_major": 2,
       "version_minor": 0
      },
      "text/plain": [
       "Training epoch 2:   0%|          | 0/100 [00:00<?, ?it/s]"
      ]
     },
     "metadata": {},
     "output_type": "display_data"
    },
    {
     "data": {
      "application/vnd.jupyter.widget-view+json": {
       "model_id": "4c9a07dd95334e2ba150e6b0d582fc65",
       "version_major": 2,
       "version_minor": 0
      },
      "text/plain": [
       "Training epoch 3:   0%|          | 0/100 [00:00<?, ?it/s]"
      ]
     },
     "metadata": {},
     "output_type": "display_data"
    },
    {
     "data": {
      "application/vnd.jupyter.widget-view+json": {
       "model_id": "f1d5917160304d14992e3d58b5e49626",
       "version_major": 2,
       "version_minor": 0
      },
      "text/plain": [
       "Training epoch 4:   0%|          | 0/100 [00:00<?, ?it/s]"
      ]
     },
     "metadata": {},
     "output_type": "display_data"
    },
    {
     "data": {
      "application/vnd.jupyter.widget-view+json": {
       "model_id": "b78d372bc0284569a4100997b6040ae2",
       "version_major": 2,
       "version_minor": 0
      },
      "text/plain": [
       "Training epoch 5:   0%|          | 0/100 [00:00<?, ?it/s]"
      ]
     },
     "metadata": {},
     "output_type": "display_data"
    },
    {
     "data": {
      "application/vnd.jupyter.widget-view+json": {
       "model_id": "0d038d2626824c829abffa5cf5e55249",
       "version_major": 2,
       "version_minor": 0
      },
      "text/plain": [
       "Training epoch 6:   0%|          | 0/100 [00:00<?, ?it/s]"
      ]
     },
     "metadata": {},
     "output_type": "display_data"
    },
    {
     "data": {
      "application/vnd.jupyter.widget-view+json": {
       "model_id": "5a1ab53b7ead40fba8ea54ddfe0e44ff",
       "version_major": 2,
       "version_minor": 0
      },
      "text/plain": [
       "Training epoch 7:   0%|          | 0/100 [00:00<?, ?it/s]"
      ]
     },
     "metadata": {},
     "output_type": "display_data"
    },
    {
     "data": {
      "application/vnd.jupyter.widget-view+json": {
       "model_id": "408c40a4f5db486eb70cc8badfa63be9",
       "version_major": 2,
       "version_minor": 0
      },
      "text/plain": [
       "Training epoch 8:   0%|          | 0/100 [00:00<?, ?it/s]"
      ]
     },
     "metadata": {},
     "output_type": "display_data"
    },
    {
     "data": {
      "application/vnd.jupyter.widget-view+json": {
       "model_id": "b1d93eda12e24bfbac9f346f7b2c48c5",
       "version_major": 2,
       "version_minor": 0
      },
      "text/plain": [
       "Training epoch 9:   0%|          | 0/100 [00:00<?, ?it/s]"
      ]
     },
     "metadata": {},
     "output_type": "display_data"
    },
    {
     "data": {
      "application/vnd.jupyter.widget-view+json": {
       "model_id": "b83dd56ae6284857968776b7aecb27e0",
       "version_major": 2,
       "version_minor": 0
      },
      "text/plain": [
       "Training epoch 10:   0%|          | 0/100 [00:00<?, ?it/s]"
      ]
     },
     "metadata": {},
     "output_type": "display_data"
    },
    {
     "data": {
      "application/vnd.jupyter.widget-view+json": {
       "model_id": "2a924a74c30743339dfaf7d46ae2e8bb",
       "version_major": 2,
       "version_minor": 0
      },
      "text/plain": [
       "Training epoch 11:   0%|          | 0/100 [00:00<?, ?it/s]"
      ]
     },
     "metadata": {},
     "output_type": "display_data"
    },
    {
     "data": {
      "application/vnd.jupyter.widget-view+json": {
       "model_id": "4aff5e8ced77461f9c4600310e626356",
       "version_major": 2,
       "version_minor": 0
      },
      "text/plain": [
       "Training epoch 12:   0%|          | 0/100 [00:00<?, ?it/s]"
      ]
     },
     "metadata": {},
     "output_type": "display_data"
    },
    {
     "data": {
      "application/vnd.jupyter.widget-view+json": {
       "model_id": "b5faa3734755403cafd15555a9eb0ea7",
       "version_major": 2,
       "version_minor": 0
      },
      "text/plain": [
       "Training epoch 13:   0%|          | 0/100 [00:00<?, ?it/s]"
      ]
     },
     "metadata": {},
     "output_type": "display_data"
    },
    {
     "data": {
      "application/vnd.jupyter.widget-view+json": {
       "model_id": "a229f8cf5228430cb954fc53f475fa49",
       "version_major": 2,
       "version_minor": 0
      },
      "text/plain": [
       "Training epoch 14:   0%|          | 0/100 [00:00<?, ?it/s]"
      ]
     },
     "metadata": {},
     "output_type": "display_data"
    },
    {
     "data": {
      "application/vnd.jupyter.widget-view+json": {
       "model_id": "e2a9a158abdc49bea7aab8e2e24de188",
       "version_major": 2,
       "version_minor": 0
      },
      "text/plain": [
       "Training epoch 15:   0%|          | 0/100 [00:00<?, ?it/s]"
      ]
     },
     "metadata": {},
     "output_type": "display_data"
    },
    {
     "data": {
      "application/vnd.jupyter.widget-view+json": {
       "model_id": "0512ea94096f4ee7bbd0c67a3aa26ee2",
       "version_major": 2,
       "version_minor": 0
      },
      "text/plain": [
       "Training epoch 16:   0%|          | 0/100 [00:00<?, ?it/s]"
      ]
     },
     "metadata": {},
     "output_type": "display_data"
    },
    {
     "data": {
      "application/vnd.jupyter.widget-view+json": {
       "model_id": "7a994690e2bf4e88990f3903880c0aa8",
       "version_major": 2,
       "version_minor": 0
      },
      "text/plain": [
       "Training epoch 17:   0%|          | 0/100 [00:00<?, ?it/s]"
      ]
     },
     "metadata": {},
     "output_type": "display_data"
    },
    {
     "data": {
      "application/vnd.jupyter.widget-view+json": {
       "model_id": "9c6795378a814daf8bb8d6107c03ce45",
       "version_major": 2,
       "version_minor": 0
      },
      "text/plain": [
       "Training epoch 18:   0%|          | 0/100 [00:00<?, ?it/s]"
      ]
     },
     "metadata": {},
     "output_type": "display_data"
    },
    {
     "data": {
      "application/vnd.jupyter.widget-view+json": {
       "model_id": "b308f9d83f2b47e49c3c857180b54dbf",
       "version_major": 2,
       "version_minor": 0
      },
      "text/plain": [
       "Training epoch 19:   0%|          | 0/100 [00:00<?, ?it/s]"
      ]
     },
     "metadata": {},
     "output_type": "display_data"
    },
    {
     "data": {
      "application/vnd.jupyter.widget-view+json": {
       "model_id": "f4244f4e6b4840b798c1d0b46d9546c8",
       "version_major": 2,
       "version_minor": 0
      },
      "text/plain": [
       "Training epoch 20:   0%|          | 0/100 [00:00<?, ?it/s]"
      ]
     },
     "metadata": {},
     "output_type": "display_data"
    },
    {
     "data": {
      "application/vnd.jupyter.widget-view+json": {
       "model_id": "47f2c3545c2b45f9ae279968aa237b14",
       "version_major": 2,
       "version_minor": 0
      },
      "text/plain": [
       "Training epoch 21:   0%|          | 0/100 [00:00<?, ?it/s]"
      ]
     },
     "metadata": {},
     "output_type": "display_data"
    },
    {
     "data": {
      "application/vnd.jupyter.widget-view+json": {
       "model_id": "96b7033df31e47c580850bdf6990ec63",
       "version_major": 2,
       "version_minor": 0
      },
      "text/plain": [
       "Training epoch 22:   0%|          | 0/100 [00:00<?, ?it/s]"
      ]
     },
     "metadata": {},
     "output_type": "display_data"
    },
    {
     "data": {
      "application/vnd.jupyter.widget-view+json": {
       "model_id": "35ebd6fc3a38498686fdaa27a14692bb",
       "version_major": 2,
       "version_minor": 0
      },
      "text/plain": [
       "Training epoch 23:   0%|          | 0/100 [00:00<?, ?it/s]"
      ]
     },
     "metadata": {},
     "output_type": "display_data"
    },
    {
     "data": {
      "application/vnd.jupyter.widget-view+json": {
       "model_id": "57e9f7546db44535910ba40a7f893fdb",
       "version_major": 2,
       "version_minor": 0
      },
      "text/plain": [
       "Training epoch 24:   0%|          | 0/100 [00:00<?, ?it/s]"
      ]
     },
     "metadata": {},
     "output_type": "display_data"
    },
    {
     "data": {
      "application/vnd.jupyter.widget-view+json": {
       "model_id": "efa9547dd4c2451bb0c1ebfe64f70d52",
       "version_major": 2,
       "version_minor": 0
      },
      "text/plain": [
       "Training epoch 25:   0%|          | 0/100 [00:00<?, ?it/s]"
      ]
     },
     "metadata": {},
     "output_type": "display_data"
    },
    {
     "data": {
      "application/vnd.jupyter.widget-view+json": {
       "model_id": "fb80709dd81240279e4eecb70f88c293",
       "version_major": 2,
       "version_minor": 0
      },
      "text/plain": [
       "Training epoch 26:   0%|          | 0/100 [00:00<?, ?it/s]"
      ]
     },
     "metadata": {},
     "output_type": "display_data"
    },
    {
     "data": {
      "application/vnd.jupyter.widget-view+json": {
       "model_id": "e20eb43aec46495d863d981f8a4f04cb",
       "version_major": 2,
       "version_minor": 0
      },
      "text/plain": [
       "Training epoch 27:   0%|          | 0/100 [00:00<?, ?it/s]"
      ]
     },
     "metadata": {},
     "output_type": "display_data"
    },
    {
     "data": {
      "application/vnd.jupyter.widget-view+json": {
       "model_id": "d37c41a501424cd9878dca408c3d372a",
       "version_major": 2,
       "version_minor": 0
      },
      "text/plain": [
       "Training epoch 28:   0%|          | 0/100 [00:00<?, ?it/s]"
      ]
     },
     "metadata": {},
     "output_type": "display_data"
    },
    {
     "data": {
      "application/vnd.jupyter.widget-view+json": {
       "model_id": "5061f8a8fef84c2b86658412e120ddd0",
       "version_major": 2,
       "version_minor": 0
      },
      "text/plain": [
       "Training epoch 29:   0%|          | 0/100 [00:00<?, ?it/s]"
      ]
     },
     "metadata": {},
     "output_type": "display_data"
    },
    {
     "data": {
      "application/vnd.jupyter.widget-view+json": {
       "model_id": "dc6dd59d95de4c53bd338161f1c0e269",
       "version_major": 2,
       "version_minor": 0
      },
      "text/plain": [
       "Training epoch 30:   0%|          | 0/100 [00:00<?, ?it/s]"
      ]
     },
     "metadata": {},
     "output_type": "display_data"
    },
    {
     "data": {
      "application/vnd.jupyter.widget-view+json": {
       "model_id": "ab4de43d75b6426db7ecf4f4ef48c20f",
       "version_major": 2,
       "version_minor": 0
      },
      "text/plain": [
       "Training epoch 31:   0%|          | 0/100 [00:00<?, ?it/s]"
      ]
     },
     "metadata": {},
     "output_type": "display_data"
    },
    {
     "data": {
      "application/vnd.jupyter.widget-view+json": {
       "model_id": "cc739a8f3a154934811543cb44bdc316",
       "version_major": 2,
       "version_minor": 0
      },
      "text/plain": [
       "Training epoch 32:   0%|          | 0/100 [00:00<?, ?it/s]"
      ]
     },
     "metadata": {},
     "output_type": "display_data"
    },
    {
     "data": {
      "application/vnd.jupyter.widget-view+json": {
       "model_id": "cbc86df85c30453bab7c4df60437506c",
       "version_major": 2,
       "version_minor": 0
      },
      "text/plain": [
       "Training epoch 33:   0%|          | 0/100 [00:00<?, ?it/s]"
      ]
     },
     "metadata": {},
     "output_type": "display_data"
    },
    {
     "data": {
      "application/vnd.jupyter.widget-view+json": {
       "model_id": "954b7931331a44faa9f5c99968505277",
       "version_major": 2,
       "version_minor": 0
      },
      "text/plain": [
       "Training epoch 34:   0%|          | 0/100 [00:00<?, ?it/s]"
      ]
     },
     "metadata": {},
     "output_type": "display_data"
    },
    {
     "data": {
      "application/vnd.jupyter.widget-view+json": {
       "model_id": "303de9b122f44c7aab191a280d8d677f",
       "version_major": 2,
       "version_minor": 0
      },
      "text/plain": [
       "Training epoch 35:   0%|          | 0/100 [00:00<?, ?it/s]"
      ]
     },
     "metadata": {},
     "output_type": "display_data"
    },
    {
     "data": {
      "application/vnd.jupyter.widget-view+json": {
       "model_id": "9010c8b6537c405e955463081978bd9f",
       "version_major": 2,
       "version_minor": 0
      },
      "text/plain": [
       "Training epoch 36:   0%|          | 0/100 [00:00<?, ?it/s]"
      ]
     },
     "metadata": {},
     "output_type": "display_data"
    },
    {
     "data": {
      "application/vnd.jupyter.widget-view+json": {
       "model_id": "eb090c6a37c545b0b5fe82d025389bcb",
       "version_major": 2,
       "version_minor": 0
      },
      "text/plain": [
       "Training epoch 37:   0%|          | 0/100 [00:00<?, ?it/s]"
      ]
     },
     "metadata": {},
     "output_type": "display_data"
    },
    {
     "data": {
      "application/vnd.jupyter.widget-view+json": {
       "model_id": "fc2d11f2dbee4d53ba3cd546df00ea5d",
       "version_major": 2,
       "version_minor": 0
      },
      "text/plain": [
       "Training epoch 38:   0%|          | 0/100 [00:00<?, ?it/s]"
      ]
     },
     "metadata": {},
     "output_type": "display_data"
    },
    {
     "data": {
      "application/vnd.jupyter.widget-view+json": {
       "model_id": "0004d615681045c48cc1095f78cfe989",
       "version_major": 2,
       "version_minor": 0
      },
      "text/plain": [
       "Training epoch 39:   0%|          | 0/100 [00:00<?, ?it/s]"
      ]
     },
     "metadata": {},
     "output_type": "display_data"
    },
    {
     "data": {
      "application/vnd.jupyter.widget-view+json": {
       "model_id": "e50205847aa74b74bd983a57e18ceed1",
       "version_major": 2,
       "version_minor": 0
      },
      "text/plain": [
       "Training epoch 40:   0%|          | 0/100 [00:00<?, ?it/s]"
      ]
     },
     "metadata": {},
     "output_type": "display_data"
    },
    {
     "data": {
      "application/vnd.jupyter.widget-view+json": {
       "model_id": "ecd71ed14c4343128cec2a0ffa333efb",
       "version_major": 2,
       "version_minor": 0
      },
      "text/plain": [
       "Training epoch 41:   0%|          | 0/100 [00:00<?, ?it/s]"
      ]
     },
     "metadata": {},
     "output_type": "display_data"
    },
    {
     "data": {
      "application/vnd.jupyter.widget-view+json": {
       "model_id": "4709b253a48e4e8f88a3f8d2f0aff01e",
       "version_major": 2,
       "version_minor": 0
      },
      "text/plain": [
       "Training epoch 42:   0%|          | 0/100 [00:00<?, ?it/s]"
      ]
     },
     "metadata": {},
     "output_type": "display_data"
    },
    {
     "data": {
      "application/vnd.jupyter.widget-view+json": {
       "model_id": "f2027979426445d09005ca07ffa8ba77",
       "version_major": 2,
       "version_minor": 0
      },
      "text/plain": [
       "Training epoch 43:   0%|          | 0/100 [00:00<?, ?it/s]"
      ]
     },
     "metadata": {},
     "output_type": "display_data"
    },
    {
     "data": {
      "application/vnd.jupyter.widget-view+json": {
       "model_id": "a59f42dd2d54411bb011fc3150a689f9",
       "version_major": 2,
       "version_minor": 0
      },
      "text/plain": [
       "Training epoch 44:   0%|          | 0/100 [00:00<?, ?it/s]"
      ]
     },
     "metadata": {},
     "output_type": "display_data"
    },
    {
     "data": {
      "application/vnd.jupyter.widget-view+json": {
       "model_id": "3f1362e33ba942e99d49eed165bc36ee",
       "version_major": 2,
       "version_minor": 0
      },
      "text/plain": [
       "Training epoch 45:   0%|          | 0/100 [00:00<?, ?it/s]"
      ]
     },
     "metadata": {},
     "output_type": "display_data"
    },
    {
     "data": {
      "application/vnd.jupyter.widget-view+json": {
       "model_id": "5ebc916b58664ae3a33ce6c52e292e46",
       "version_major": 2,
       "version_minor": 0
      },
      "text/plain": [
       "Training epoch 46:   0%|          | 0/100 [00:00<?, ?it/s]"
      ]
     },
     "metadata": {},
     "output_type": "display_data"
    },
    {
     "data": {
      "application/vnd.jupyter.widget-view+json": {
       "model_id": "4823a7a300c84eef83ac162341b493f3",
       "version_major": 2,
       "version_minor": 0
      },
      "text/plain": [
       "Training epoch 47:   0%|          | 0/100 [00:00<?, ?it/s]"
      ]
     },
     "metadata": {},
     "output_type": "display_data"
    },
    {
     "data": {
      "application/vnd.jupyter.widget-view+json": {
       "model_id": "10bfe9ad1da049d99e36ee1655b6f1db",
       "version_major": 2,
       "version_minor": 0
      },
      "text/plain": [
       "Training epoch 48:   0%|          | 0/100 [00:00<?, ?it/s]"
      ]
     },
     "metadata": {},
     "output_type": "display_data"
    },
    {
     "data": {
      "application/vnd.jupyter.widget-view+json": {
       "model_id": "93dfeac8637949248dfd8262aa00a017",
       "version_major": 2,
       "version_minor": 0
      },
      "text/plain": [
       "Training epoch 49:   0%|          | 0/100 [00:00<?, ?it/s]"
      ]
     },
     "metadata": {},
     "output_type": "display_data"
    },
    {
     "data": {
      "application/vnd.jupyter.widget-view+json": {
       "model_id": "0b7cebb8ae2a4cf296e647c6fb358e07",
       "version_major": 2,
       "version_minor": 0
      },
      "text/plain": [
       "Training epoch 50:   0%|          | 0/100 [00:00<?, ?it/s]"
      ]
     },
     "metadata": {},
     "output_type": "display_data"
    },
    {
     "data": {
      "application/vnd.jupyter.widget-view+json": {
       "model_id": "e856cf562c3a47f2a59024301d669db0",
       "version_major": 2,
       "version_minor": 0
      },
      "text/plain": [
       "Training epoch 51:   0%|          | 0/100 [00:00<?, ?it/s]"
      ]
     },
     "metadata": {},
     "output_type": "display_data"
    },
    {
     "data": {
      "application/vnd.jupyter.widget-view+json": {
       "model_id": "dd441d2265d5431791a876c63896897a",
       "version_major": 2,
       "version_minor": 0
      },
      "text/plain": [
       "Training epoch 52:   0%|          | 0/100 [00:00<?, ?it/s]"
      ]
     },
     "metadata": {},
     "output_type": "display_data"
    },
    {
     "data": {
      "application/vnd.jupyter.widget-view+json": {
       "model_id": "ae54f1019d244a4fb8f154b85fb06b07",
       "version_major": 2,
       "version_minor": 0
      },
      "text/plain": [
       "Training epoch 53:   0%|          | 0/100 [00:00<?, ?it/s]"
      ]
     },
     "metadata": {},
     "output_type": "display_data"
    },
    {
     "data": {
      "application/vnd.jupyter.widget-view+json": {
       "model_id": "0fa779089fd84e73aedd057fcf7a36c5",
       "version_major": 2,
       "version_minor": 0
      },
      "text/plain": [
       "Training epoch 54:   0%|          | 0/100 [00:00<?, ?it/s]"
      ]
     },
     "metadata": {},
     "output_type": "display_data"
    },
    {
     "data": {
      "application/vnd.jupyter.widget-view+json": {
       "model_id": "a25629a5f94645ca881288143f3319a2",
       "version_major": 2,
       "version_minor": 0
      },
      "text/plain": [
       "Training epoch 55:   0%|          | 0/100 [00:00<?, ?it/s]"
      ]
     },
     "metadata": {},
     "output_type": "display_data"
    },
    {
     "data": {
      "application/vnd.jupyter.widget-view+json": {
       "model_id": "06054dc2a29f46228adf3ac235243920",
       "version_major": 2,
       "version_minor": 0
      },
      "text/plain": [
       "Training epoch 56:   0%|          | 0/100 [00:00<?, ?it/s]"
      ]
     },
     "metadata": {},
     "output_type": "display_data"
    },
    {
     "data": {
      "application/vnd.jupyter.widget-view+json": {
       "model_id": "ff3b70108a3242db99ae1872ad6aa516",
       "version_major": 2,
       "version_minor": 0
      },
      "text/plain": [
       "Training epoch 57:   0%|          | 0/100 [00:00<?, ?it/s]"
      ]
     },
     "metadata": {},
     "output_type": "display_data"
    },
    {
     "data": {
      "application/vnd.jupyter.widget-view+json": {
       "model_id": "d1b26f3fdbdb42d5b1ebb9a5d477f3f5",
       "version_major": 2,
       "version_minor": 0
      },
      "text/plain": [
       "Training epoch 58:   0%|          | 0/100 [00:00<?, ?it/s]"
      ]
     },
     "metadata": {},
     "output_type": "display_data"
    },
    {
     "data": {
      "application/vnd.jupyter.widget-view+json": {
       "model_id": "160f7056958b49e786339c17c34707dc",
       "version_major": 2,
       "version_minor": 0
      },
      "text/plain": [
       "Training epoch 59:   0%|          | 0/100 [00:00<?, ?it/s]"
      ]
     },
     "metadata": {},
     "output_type": "display_data"
    },
    {
     "data": {
      "application/vnd.jupyter.widget-view+json": {
       "model_id": "cdfa9a96d1684ec4aa01d95ec92ded58",
       "version_major": 2,
       "version_minor": 0
      },
      "text/plain": [
       "Training epoch 60:   0%|          | 0/100 [00:00<?, ?it/s]"
      ]
     },
     "metadata": {},
     "output_type": "display_data"
    },
    {
     "data": {
      "application/vnd.jupyter.widget-view+json": {
       "model_id": "a0adbd7052ee4392874a8fcb820c5b21",
       "version_major": 2,
       "version_minor": 0
      },
      "text/plain": [
       "Training epoch 61:   0%|          | 0/100 [00:00<?, ?it/s]"
      ]
     },
     "metadata": {},
     "output_type": "display_data"
    },
    {
     "data": {
      "application/vnd.jupyter.widget-view+json": {
       "model_id": "64efa32ba687461cb98107658e0e75f0",
       "version_major": 2,
       "version_minor": 0
      },
      "text/plain": [
       "Training epoch 62:   0%|          | 0/100 [00:00<?, ?it/s]"
      ]
     },
     "metadata": {},
     "output_type": "display_data"
    },
    {
     "data": {
      "application/vnd.jupyter.widget-view+json": {
       "model_id": "4588287c097e4810b7d120452c1fa8e4",
       "version_major": 2,
       "version_minor": 0
      },
      "text/plain": [
       "Training epoch 63:   0%|          | 0/100 [00:00<?, ?it/s]"
      ]
     },
     "metadata": {},
     "output_type": "display_data"
    },
    {
     "data": {
      "application/vnd.jupyter.widget-view+json": {
       "model_id": "b71d203a86df44e0a367ef506cdbfbf7",
       "version_major": 2,
       "version_minor": 0
      },
      "text/plain": [
       "Training epoch 64:   0%|          | 0/100 [00:00<?, ?it/s]"
      ]
     },
     "metadata": {},
     "output_type": "display_data"
    },
    {
     "data": {
      "application/vnd.jupyter.widget-view+json": {
       "model_id": "95deb196af004961bb4ac62dd3269c71",
       "version_major": 2,
       "version_minor": 0
      },
      "text/plain": [
       "Training epoch 65:   0%|          | 0/100 [00:00<?, ?it/s]"
      ]
     },
     "metadata": {},
     "output_type": "display_data"
    },
    {
     "data": {
      "application/vnd.jupyter.widget-view+json": {
       "model_id": "69cdcfc318004d0a96ef5db45234fd56",
       "version_major": 2,
       "version_minor": 0
      },
      "text/plain": [
       "Training epoch 66:   0%|          | 0/100 [00:00<?, ?it/s]"
      ]
     },
     "metadata": {},
     "output_type": "display_data"
    },
    {
     "data": {
      "application/vnd.jupyter.widget-view+json": {
       "model_id": "2c6ebd7ccf7444f689837b715fae1f7d",
       "version_major": 2,
       "version_minor": 0
      },
      "text/plain": [
       "Training epoch 67:   0%|          | 0/100 [00:00<?, ?it/s]"
      ]
     },
     "metadata": {},
     "output_type": "display_data"
    },
    {
     "data": {
      "application/vnd.jupyter.widget-view+json": {
       "model_id": "a8b2409b6a4f4b7eb60d1d2ae671c222",
       "version_major": 2,
       "version_minor": 0
      },
      "text/plain": [
       "Training epoch 68:   0%|          | 0/100 [00:00<?, ?it/s]"
      ]
     },
     "metadata": {},
     "output_type": "display_data"
    },
    {
     "data": {
      "application/vnd.jupyter.widget-view+json": {
       "model_id": "7bc66c9332c14ab696477395037d59a3",
       "version_major": 2,
       "version_minor": 0
      },
      "text/plain": [
       "Training epoch 69:   0%|          | 0/100 [00:00<?, ?it/s]"
      ]
     },
     "metadata": {},
     "output_type": "display_data"
    },
    {
     "data": {
      "application/vnd.jupyter.widget-view+json": {
       "model_id": "a88fc632b1f34cb6a6162616e5de0710",
       "version_major": 2,
       "version_minor": 0
      },
      "text/plain": [
       "Training epoch 70:   0%|          | 0/100 [00:00<?, ?it/s]"
      ]
     },
     "metadata": {},
     "output_type": "display_data"
    },
    {
     "data": {
      "application/vnd.jupyter.widget-view+json": {
       "model_id": "89122504ba004c2889e0472515d2f809",
       "version_major": 2,
       "version_minor": 0
      },
      "text/plain": [
       "Training epoch 71:   0%|          | 0/100 [00:00<?, ?it/s]"
      ]
     },
     "metadata": {},
     "output_type": "display_data"
    },
    {
     "data": {
      "application/vnd.jupyter.widget-view+json": {
       "model_id": "77fcbc13a4264ff4868f4fe3d25355d9",
       "version_major": 2,
       "version_minor": 0
      },
      "text/plain": [
       "Training epoch 72:   0%|          | 0/100 [00:00<?, ?it/s]"
      ]
     },
     "metadata": {},
     "output_type": "display_data"
    },
    {
     "data": {
      "application/vnd.jupyter.widget-view+json": {
       "model_id": "749e0a1911464eaea5e3447ab34d45f3",
       "version_major": 2,
       "version_minor": 0
      },
      "text/plain": [
       "Training epoch 73:   0%|          | 0/100 [00:00<?, ?it/s]"
      ]
     },
     "metadata": {},
     "output_type": "display_data"
    },
    {
     "data": {
      "application/vnd.jupyter.widget-view+json": {
       "model_id": "5e8b5fd790b442b29a3bf0e7b142422f",
       "version_major": 2,
       "version_minor": 0
      },
      "text/plain": [
       "Training epoch 74:   0%|          | 0/100 [00:00<?, ?it/s]"
      ]
     },
     "metadata": {},
     "output_type": "display_data"
    },
    {
     "data": {
      "application/vnd.jupyter.widget-view+json": {
       "model_id": "cc8af1d8c5c14d109530cca7401c3add",
       "version_major": 2,
       "version_minor": 0
      },
      "text/plain": [
       "Training epoch 75:   0%|          | 0/100 [00:00<?, ?it/s]"
      ]
     },
     "metadata": {},
     "output_type": "display_data"
    },
    {
     "data": {
      "application/vnd.jupyter.widget-view+json": {
       "model_id": "8f0bd2ea5e664bfa9537521b1a088ad1",
       "version_major": 2,
       "version_minor": 0
      },
      "text/plain": [
       "Training epoch 76:   0%|          | 0/100 [00:00<?, ?it/s]"
      ]
     },
     "metadata": {},
     "output_type": "display_data"
    },
    {
     "data": {
      "application/vnd.jupyter.widget-view+json": {
       "model_id": "1d038b8aa8be4e3eae967970910dbdee",
       "version_major": 2,
       "version_minor": 0
      },
      "text/plain": [
       "Training epoch 77:   0%|          | 0/100 [00:00<?, ?it/s]"
      ]
     },
     "metadata": {},
     "output_type": "display_data"
    },
    {
     "data": {
      "application/vnd.jupyter.widget-view+json": {
       "model_id": "68c74b6aff72475c8cf7fb8e6bb99d43",
       "version_major": 2,
       "version_minor": 0
      },
      "text/plain": [
       "Training epoch 78:   0%|          | 0/100 [00:00<?, ?it/s]"
      ]
     },
     "metadata": {},
     "output_type": "display_data"
    },
    {
     "data": {
      "application/vnd.jupyter.widget-view+json": {
       "model_id": "702d939bbf604d61a3480b80cac494cf",
       "version_major": 2,
       "version_minor": 0
      },
      "text/plain": [
       "Training epoch 79:   0%|          | 0/100 [00:00<?, ?it/s]"
      ]
     },
     "metadata": {},
     "output_type": "display_data"
    },
    {
     "data": {
      "application/vnd.jupyter.widget-view+json": {
       "model_id": "a947a91a980c40ed9f40bf2a9c79f988",
       "version_major": 2,
       "version_minor": 0
      },
      "text/plain": [
       "Training epoch 80:   0%|          | 0/100 [00:00<?, ?it/s]"
      ]
     },
     "metadata": {},
     "output_type": "display_data"
    },
    {
     "data": {
      "application/vnd.jupyter.widget-view+json": {
       "model_id": "c4d33e8112d643659c3d8cf863e8f62b",
       "version_major": 2,
       "version_minor": 0
      },
      "text/plain": [
       "Training epoch 81:   0%|          | 0/100 [00:00<?, ?it/s]"
      ]
     },
     "metadata": {},
     "output_type": "display_data"
    },
    {
     "data": {
      "application/vnd.jupyter.widget-view+json": {
       "model_id": "ffa8ea178907421fa137834cb40329e4",
       "version_major": 2,
       "version_minor": 0
      },
      "text/plain": [
       "Training epoch 82:   0%|          | 0/100 [00:00<?, ?it/s]"
      ]
     },
     "metadata": {},
     "output_type": "display_data"
    },
    {
     "data": {
      "application/vnd.jupyter.widget-view+json": {
       "model_id": "34acaf4afa18462d934c9bf4a43ef5ac",
       "version_major": 2,
       "version_minor": 0
      },
      "text/plain": [
       "Training epoch 83:   0%|          | 0/100 [00:00<?, ?it/s]"
      ]
     },
     "metadata": {},
     "output_type": "display_data"
    },
    {
     "data": {
      "application/vnd.jupyter.widget-view+json": {
       "model_id": "57f77844486d4c3aafffdb04ea84dd38",
       "version_major": 2,
       "version_minor": 0
      },
      "text/plain": [
       "Training epoch 84:   0%|          | 0/100 [00:00<?, ?it/s]"
      ]
     },
     "metadata": {},
     "output_type": "display_data"
    },
    {
     "data": {
      "application/vnd.jupyter.widget-view+json": {
       "model_id": "b348b3fec0724d329fca6839dfde22e1",
       "version_major": 2,
       "version_minor": 0
      },
      "text/plain": [
       "Training epoch 85:   0%|          | 0/100 [00:00<?, ?it/s]"
      ]
     },
     "metadata": {},
     "output_type": "display_data"
    },
    {
     "data": {
      "application/vnd.jupyter.widget-view+json": {
       "model_id": "f111d296c64a439aa2c565171c8d1dda",
       "version_major": 2,
       "version_minor": 0
      },
      "text/plain": [
       "Training epoch 86:   0%|          | 0/100 [00:00<?, ?it/s]"
      ]
     },
     "metadata": {},
     "output_type": "display_data"
    },
    {
     "data": {
      "application/vnd.jupyter.widget-view+json": {
       "model_id": "f3292b62b38147659347089198cbc2fc",
       "version_major": 2,
       "version_minor": 0
      },
      "text/plain": [
       "Training epoch 87:   0%|          | 0/100 [00:00<?, ?it/s]"
      ]
     },
     "metadata": {},
     "output_type": "display_data"
    },
    {
     "data": {
      "application/vnd.jupyter.widget-view+json": {
       "model_id": "d352788a7ea7413b89f0831353976e6a",
       "version_major": 2,
       "version_minor": 0
      },
      "text/plain": [
       "Training epoch 88:   0%|          | 0/100 [00:00<?, ?it/s]"
      ]
     },
     "metadata": {},
     "output_type": "display_data"
    },
    {
     "data": {
      "application/vnd.jupyter.widget-view+json": {
       "model_id": "5fc3f75023dc4aca805399825528ea5f",
       "version_major": 2,
       "version_minor": 0
      },
      "text/plain": [
       "Training epoch 89:   0%|          | 0/100 [00:00<?, ?it/s]"
      ]
     },
     "metadata": {},
     "output_type": "display_data"
    },
    {
     "data": {
      "application/vnd.jupyter.widget-view+json": {
       "model_id": "d5902d9422e9475495d7957dbf5ec767",
       "version_major": 2,
       "version_minor": 0
      },
      "text/plain": [
       "Training epoch 90:   0%|          | 0/100 [00:00<?, ?it/s]"
      ]
     },
     "metadata": {},
     "output_type": "display_data"
    },
    {
     "data": {
      "application/vnd.jupyter.widget-view+json": {
       "model_id": "47bec04912a94a8eb11982ae27f382d4",
       "version_major": 2,
       "version_minor": 0
      },
      "text/plain": [
       "Training epoch 91:   0%|          | 0/100 [00:00<?, ?it/s]"
      ]
     },
     "metadata": {},
     "output_type": "display_data"
    },
    {
     "data": {
      "application/vnd.jupyter.widget-view+json": {
       "model_id": "d815f367ec054495882a74facad87889",
       "version_major": 2,
       "version_minor": 0
      },
      "text/plain": [
       "Training epoch 92:   0%|          | 0/100 [00:00<?, ?it/s]"
      ]
     },
     "metadata": {},
     "output_type": "display_data"
    },
    {
     "data": {
      "application/vnd.jupyter.widget-view+json": {
       "model_id": "8d631e86d1d043a98e4063264e2a5ff7",
       "version_major": 2,
       "version_minor": 0
      },
      "text/plain": [
       "Training epoch 93:   0%|          | 0/100 [00:00<?, ?it/s]"
      ]
     },
     "metadata": {},
     "output_type": "display_data"
    },
    {
     "data": {
      "application/vnd.jupyter.widget-view+json": {
       "model_id": "dd70a2817d834079962320b91964a850",
       "version_major": 2,
       "version_minor": 0
      },
      "text/plain": [
       "Training epoch 94:   0%|          | 0/100 [00:00<?, ?it/s]"
      ]
     },
     "metadata": {},
     "output_type": "display_data"
    },
    {
     "data": {
      "application/vnd.jupyter.widget-view+json": {
       "model_id": "6f8e0068e4594631a67363076d379b15",
       "version_major": 2,
       "version_minor": 0
      },
      "text/plain": [
       "Training epoch 95:   0%|          | 0/100 [00:00<?, ?it/s]"
      ]
     },
     "metadata": {},
     "output_type": "display_data"
    },
    {
     "data": {
      "application/vnd.jupyter.widget-view+json": {
       "model_id": "32bcf9918a1840f990f5a2bc94244b96",
       "version_major": 2,
       "version_minor": 0
      },
      "text/plain": [
       "Training epoch 96:   0%|          | 0/100 [00:00<?, ?it/s]"
      ]
     },
     "metadata": {},
     "output_type": "display_data"
    },
    {
     "data": {
      "application/vnd.jupyter.widget-view+json": {
       "model_id": "ab6f456425e347c9941b7ea776f942a3",
       "version_major": 2,
       "version_minor": 0
      },
      "text/plain": [
       "Training epoch 97:   0%|          | 0/100 [00:00<?, ?it/s]"
      ]
     },
     "metadata": {},
     "output_type": "display_data"
    },
    {
     "data": {
      "application/vnd.jupyter.widget-view+json": {
       "model_id": "5f13c77e571a44818dee31d4751e8810",
       "version_major": 2,
       "version_minor": 0
      },
      "text/plain": [
       "Training epoch 98:   0%|          | 0/100 [00:00<?, ?it/s]"
      ]
     },
     "metadata": {},
     "output_type": "display_data"
    },
    {
     "data": {
      "application/vnd.jupyter.widget-view+json": {
       "model_id": "9e3bb807652443708a4dde1e6a83e736",
       "version_major": 2,
       "version_minor": 0
      },
      "text/plain": [
       "Training epoch 99:   0%|          | 0/100 [00:00<?, ?it/s]"
      ]
     },
     "metadata": {},
     "output_type": "display_data"
    },
    {
     "data": {
      "application/vnd.jupyter.widget-view+json": {
       "model_id": "32c24a774456430bbe2bd7ed55901e3c",
       "version_major": 2,
       "version_minor": 0
      },
      "text/plain": [
       "Training epoch 100:   0%|          | 0/100 [00:00<?, ?it/s]"
      ]
     },
     "metadata": {},
     "output_type": "display_data"
    },
    {
     "data": {
      "application/vnd.jupyter.widget-view+json": {
       "model_id": "0cdafa0f023a4b918003dea2d383d692",
       "version_major": 2,
       "version_minor": 0
      },
      "text/plain": [
       "Training epoch 101:   0%|          | 0/100 [00:00<?, ?it/s]"
      ]
     },
     "metadata": {},
     "output_type": "display_data"
    },
    {
     "data": {
      "application/vnd.jupyter.widget-view+json": {
       "model_id": "4f4bf7629f3e4e74a33629c7dd481e52",
       "version_major": 2,
       "version_minor": 0
      },
      "text/plain": [
       "Training epoch 102:   0%|          | 0/100 [00:00<?, ?it/s]"
      ]
     },
     "metadata": {},
     "output_type": "display_data"
    },
    {
     "data": {
      "application/vnd.jupyter.widget-view+json": {
       "model_id": "784146e0a51f448bb652862c0dfc1f6a",
       "version_major": 2,
       "version_minor": 0
      },
      "text/plain": [
       "Training epoch 103:   0%|          | 0/100 [00:00<?, ?it/s]"
      ]
     },
     "metadata": {},
     "output_type": "display_data"
    },
    {
     "data": {
      "application/vnd.jupyter.widget-view+json": {
       "model_id": "eabaafe9fa814566988d9d0094172fc2",
       "version_major": 2,
       "version_minor": 0
      },
      "text/plain": [
       "Training epoch 104:   0%|          | 0/100 [00:00<?, ?it/s]"
      ]
     },
     "metadata": {},
     "output_type": "display_data"
    },
    {
     "data": {
      "application/vnd.jupyter.widget-view+json": {
       "model_id": "decb8e293b50481c88cf9fe9c8be17a2",
       "version_major": 2,
       "version_minor": 0
      },
      "text/plain": [
       "Training epoch 105:   0%|          | 0/100 [00:00<?, ?it/s]"
      ]
     },
     "metadata": {},
     "output_type": "display_data"
    },
    {
     "data": {
      "application/vnd.jupyter.widget-view+json": {
       "model_id": "eed7721daeda42c5baf304508cb79d5e",
       "version_major": 2,
       "version_minor": 0
      },
      "text/plain": [
       "Training epoch 106:   0%|          | 0/100 [00:00<?, ?it/s]"
      ]
     },
     "metadata": {},
     "output_type": "display_data"
    },
    {
     "data": {
      "application/vnd.jupyter.widget-view+json": {
       "model_id": "99fcbb1d9dbb498dbd769115aa3ada0f",
       "version_major": 2,
       "version_minor": 0
      },
      "text/plain": [
       "Training epoch 107:   0%|          | 0/100 [00:00<?, ?it/s]"
      ]
     },
     "metadata": {},
     "output_type": "display_data"
    },
    {
     "data": {
      "application/vnd.jupyter.widget-view+json": {
       "model_id": "86fc686574884cef9b2995c738b2e1f7",
       "version_major": 2,
       "version_minor": 0
      },
      "text/plain": [
       "Training epoch 108:   0%|          | 0/100 [00:00<?, ?it/s]"
      ]
     },
     "metadata": {},
     "output_type": "display_data"
    },
    {
     "data": {
      "application/vnd.jupyter.widget-view+json": {
       "model_id": "dab0e6d00ff7425085ad1a10a30b7ed3",
       "version_major": 2,
       "version_minor": 0
      },
      "text/plain": [
       "Training epoch 109:   0%|          | 0/100 [00:00<?, ?it/s]"
      ]
     },
     "metadata": {},
     "output_type": "display_data"
    },
    {
     "data": {
      "application/vnd.jupyter.widget-view+json": {
       "model_id": "0abc0019943343ac843ae143d025717e",
       "version_major": 2,
       "version_minor": 0
      },
      "text/plain": [
       "Training epoch 110:   0%|          | 0/100 [00:00<?, ?it/s]"
      ]
     },
     "metadata": {},
     "output_type": "display_data"
    },
    {
     "data": {
      "application/vnd.jupyter.widget-view+json": {
       "model_id": "ee239cf075d84fbb99fd8be49540c764",
       "version_major": 2,
       "version_minor": 0
      },
      "text/plain": [
       "Training epoch 111:   0%|          | 0/100 [00:00<?, ?it/s]"
      ]
     },
     "metadata": {},
     "output_type": "display_data"
    },
    {
     "data": {
      "application/vnd.jupyter.widget-view+json": {
       "model_id": "e33fb236626e4b31b95a1befe809a55d",
       "version_major": 2,
       "version_minor": 0
      },
      "text/plain": [
       "Training epoch 112:   0%|          | 0/100 [00:00<?, ?it/s]"
      ]
     },
     "metadata": {},
     "output_type": "display_data"
    },
    {
     "data": {
      "application/vnd.jupyter.widget-view+json": {
       "model_id": "7284d5a2b12f4c0d84bcbab07e3aed2b",
       "version_major": 2,
       "version_minor": 0
      },
      "text/plain": [
       "Training epoch 113:   0%|          | 0/100 [00:00<?, ?it/s]"
      ]
     },
     "metadata": {},
     "output_type": "display_data"
    },
    {
     "data": {
      "application/vnd.jupyter.widget-view+json": {
       "model_id": "11a8a4a3619d4dc786b6a59705cdc2c5",
       "version_major": 2,
       "version_minor": 0
      },
      "text/plain": [
       "Training epoch 114:   0%|          | 0/100 [00:00<?, ?it/s]"
      ]
     },
     "metadata": {},
     "output_type": "display_data"
    },
    {
     "data": {
      "application/vnd.jupyter.widget-view+json": {
       "model_id": "c5c2fff3fe394f16b5d2921b58f6b701",
       "version_major": 2,
       "version_minor": 0
      },
      "text/plain": [
       "Training epoch 115:   0%|          | 0/100 [00:00<?, ?it/s]"
      ]
     },
     "metadata": {},
     "output_type": "display_data"
    },
    {
     "data": {
      "application/vnd.jupyter.widget-view+json": {
       "model_id": "4fa6c9148e5e4685813473269c9ec667",
       "version_major": 2,
       "version_minor": 0
      },
      "text/plain": [
       "Training epoch 116:   0%|          | 0/100 [00:00<?, ?it/s]"
      ]
     },
     "metadata": {},
     "output_type": "display_data"
    },
    {
     "data": {
      "application/vnd.jupyter.widget-view+json": {
       "model_id": "62aff62ffe3e4556aa747d91f36ed8b5",
       "version_major": 2,
       "version_minor": 0
      },
      "text/plain": [
       "Training epoch 117:   0%|          | 0/100 [00:00<?, ?it/s]"
      ]
     },
     "metadata": {},
     "output_type": "display_data"
    },
    {
     "data": {
      "application/vnd.jupyter.widget-view+json": {
       "model_id": "fd07b9bcda414be8a1cca772f9ff99ec",
       "version_major": 2,
       "version_minor": 0
      },
      "text/plain": [
       "Training epoch 118:   0%|          | 0/100 [00:00<?, ?it/s]"
      ]
     },
     "metadata": {},
     "output_type": "display_data"
    },
    {
     "data": {
      "application/vnd.jupyter.widget-view+json": {
       "model_id": "e78be99409244e729a2c46e78e954f95",
       "version_major": 2,
       "version_minor": 0
      },
      "text/plain": [
       "Training epoch 119:   0%|          | 0/100 [00:00<?, ?it/s]"
      ]
     },
     "metadata": {},
     "output_type": "display_data"
    },
    {
     "data": {
      "application/vnd.jupyter.widget-view+json": {
       "model_id": "7057656c67cf41dda1496b4607a42c23",
       "version_major": 2,
       "version_minor": 0
      },
      "text/plain": [
       "Training epoch 120:   0%|          | 0/100 [00:00<?, ?it/s]"
      ]
     },
     "metadata": {},
     "output_type": "display_data"
    },
    {
     "data": {
      "application/vnd.jupyter.widget-view+json": {
       "model_id": "bd51d47dee44445ab336d5e2f74e22cf",
       "version_major": 2,
       "version_minor": 0
      },
      "text/plain": [
       "Training epoch 121:   0%|          | 0/100 [00:00<?, ?it/s]"
      ]
     },
     "metadata": {},
     "output_type": "display_data"
    },
    {
     "data": {
      "application/vnd.jupyter.widget-view+json": {
       "model_id": "5b368b4508364ef58c2265cc4fda391c",
       "version_major": 2,
       "version_minor": 0
      },
      "text/plain": [
       "Training epoch 122:   0%|          | 0/100 [00:00<?, ?it/s]"
      ]
     },
     "metadata": {},
     "output_type": "display_data"
    },
    {
     "data": {
      "application/vnd.jupyter.widget-view+json": {
       "model_id": "020ddd03de154635b87450e4aa8cf396",
       "version_major": 2,
       "version_minor": 0
      },
      "text/plain": [
       "Training epoch 123:   0%|          | 0/100 [00:00<?, ?it/s]"
      ]
     },
     "metadata": {},
     "output_type": "display_data"
    },
    {
     "data": {
      "application/vnd.jupyter.widget-view+json": {
       "model_id": "56215d6afcec4153810989c567ad7606",
       "version_major": 2,
       "version_minor": 0
      },
      "text/plain": [
       "Training epoch 124:   0%|          | 0/100 [00:00<?, ?it/s]"
      ]
     },
     "metadata": {},
     "output_type": "display_data"
    },
    {
     "data": {
      "application/vnd.jupyter.widget-view+json": {
       "model_id": "0ec47df2f88f4fb8ac130cdf8af60e72",
       "version_major": 2,
       "version_minor": 0
      },
      "text/plain": [
       "Training epoch 125:   0%|          | 0/100 [00:00<?, ?it/s]"
      ]
     },
     "metadata": {},
     "output_type": "display_data"
    },
    {
     "data": {
      "application/vnd.jupyter.widget-view+json": {
       "model_id": "57fa1cdd3f81408c85c90df1ccb89c1c",
       "version_major": 2,
       "version_minor": 0
      },
      "text/plain": [
       "Training epoch 126:   0%|          | 0/100 [00:00<?, ?it/s]"
      ]
     },
     "metadata": {},
     "output_type": "display_data"
    },
    {
     "data": {
      "application/vnd.jupyter.widget-view+json": {
       "model_id": "a75dc317846c40c8a755404721b31418",
       "version_major": 2,
       "version_minor": 0
      },
      "text/plain": [
       "Training epoch 127:   0%|          | 0/100 [00:00<?, ?it/s]"
      ]
     },
     "metadata": {},
     "output_type": "display_data"
    },
    {
     "data": {
      "application/vnd.jupyter.widget-view+json": {
       "model_id": "90f462d784254e90b6bff18ea4dc5830",
       "version_major": 2,
       "version_minor": 0
      },
      "text/plain": [
       "Training epoch 128:   0%|          | 0/100 [00:00<?, ?it/s]"
      ]
     },
     "metadata": {},
     "output_type": "display_data"
    },
    {
     "data": {
      "application/vnd.jupyter.widget-view+json": {
       "model_id": "9d42cbcbe7fa471eaeb49e9f0b5493b1",
       "version_major": 2,
       "version_minor": 0
      },
      "text/plain": [
       "Training epoch 129:   0%|          | 0/100 [00:00<?, ?it/s]"
      ]
     },
     "metadata": {},
     "output_type": "display_data"
    },
    {
     "data": {
      "application/vnd.jupyter.widget-view+json": {
       "model_id": "725cc3c4fc8b4414b0233332784583fd",
       "version_major": 2,
       "version_minor": 0
      },
      "text/plain": [
       "Training epoch 130:   0%|          | 0/100 [00:00<?, ?it/s]"
      ]
     },
     "metadata": {},
     "output_type": "display_data"
    },
    {
     "data": {
      "application/vnd.jupyter.widget-view+json": {
       "model_id": "61f2943b1d8441d9a81a8b5303555d94",
       "version_major": 2,
       "version_minor": 0
      },
      "text/plain": [
       "Training epoch 131:   0%|          | 0/100 [00:00<?, ?it/s]"
      ]
     },
     "metadata": {},
     "output_type": "display_data"
    },
    {
     "data": {
      "application/vnd.jupyter.widget-view+json": {
       "model_id": "51d37933800b44c5ae7907f0e221470a",
       "version_major": 2,
       "version_minor": 0
      },
      "text/plain": [
       "Training epoch 132:   0%|          | 0/100 [00:00<?, ?it/s]"
      ]
     },
     "metadata": {},
     "output_type": "display_data"
    },
    {
     "data": {
      "application/vnd.jupyter.widget-view+json": {
       "model_id": "691ca3757b704699b589f13ff6f1dd16",
       "version_major": 2,
       "version_minor": 0
      },
      "text/plain": [
       "Training epoch 133:   0%|          | 0/100 [00:00<?, ?it/s]"
      ]
     },
     "metadata": {},
     "output_type": "display_data"
    },
    {
     "data": {
      "application/vnd.jupyter.widget-view+json": {
       "model_id": "f3c944f9665d481cbd7b999707cbf49f",
       "version_major": 2,
       "version_minor": 0
      },
      "text/plain": [
       "Training epoch 134:   0%|          | 0/100 [00:00<?, ?it/s]"
      ]
     },
     "metadata": {},
     "output_type": "display_data"
    },
    {
     "data": {
      "application/vnd.jupyter.widget-view+json": {
       "model_id": "12aba0b626f447d3b7c8c11003f71912",
       "version_major": 2,
       "version_minor": 0
      },
      "text/plain": [
       "Training epoch 135:   0%|          | 0/100 [00:00<?, ?it/s]"
      ]
     },
     "metadata": {},
     "output_type": "display_data"
    },
    {
     "data": {
      "application/vnd.jupyter.widget-view+json": {
       "model_id": "f23a9f36e1f842fd9a1ed175dcd4eef6",
       "version_major": 2,
       "version_minor": 0
      },
      "text/plain": [
       "Training epoch 136:   0%|          | 0/100 [00:00<?, ?it/s]"
      ]
     },
     "metadata": {},
     "output_type": "display_data"
    },
    {
     "data": {
      "application/vnd.jupyter.widget-view+json": {
       "model_id": "b7e31cf9d4164c6aba763e7e930c9001",
       "version_major": 2,
       "version_minor": 0
      },
      "text/plain": [
       "Training epoch 137:   0%|          | 0/100 [00:00<?, ?it/s]"
      ]
     },
     "metadata": {},
     "output_type": "display_data"
    },
    {
     "data": {
      "application/vnd.jupyter.widget-view+json": {
       "model_id": "7d45504079144bd58818e3a9683e48ee",
       "version_major": 2,
       "version_minor": 0
      },
      "text/plain": [
       "Training epoch 138:   0%|          | 0/100 [00:00<?, ?it/s]"
      ]
     },
     "metadata": {},
     "output_type": "display_data"
    },
    {
     "data": {
      "application/vnd.jupyter.widget-view+json": {
       "model_id": "2fcea2046c884c50af53284cd516dbdb",
       "version_major": 2,
       "version_minor": 0
      },
      "text/plain": [
       "Training epoch 139:   0%|          | 0/100 [00:00<?, ?it/s]"
      ]
     },
     "metadata": {},
     "output_type": "display_data"
    },
    {
     "data": {
      "application/vnd.jupyter.widget-view+json": {
       "model_id": "196893afa54544aeb9daf9ef035b3918",
       "version_major": 2,
       "version_minor": 0
      },
      "text/plain": [
       "Training epoch 140:   0%|          | 0/100 [00:00<?, ?it/s]"
      ]
     },
     "metadata": {},
     "output_type": "display_data"
    },
    {
     "data": {
      "application/vnd.jupyter.widget-view+json": {
       "model_id": "eef055767cbd478b9b7acf02546dc39f",
       "version_major": 2,
       "version_minor": 0
      },
      "text/plain": [
       "Training epoch 141:   0%|          | 0/100 [00:00<?, ?it/s]"
      ]
     },
     "metadata": {},
     "output_type": "display_data"
    },
    {
     "data": {
      "application/vnd.jupyter.widget-view+json": {
       "model_id": "11485db8a190442abf081bdceeadf892",
       "version_major": 2,
       "version_minor": 0
      },
      "text/plain": [
       "Training epoch 142:   0%|          | 0/100 [00:00<?, ?it/s]"
      ]
     },
     "metadata": {},
     "output_type": "display_data"
    },
    {
     "data": {
      "application/vnd.jupyter.widget-view+json": {
       "model_id": "447affa367064aa19119ecd6a513129c",
       "version_major": 2,
       "version_minor": 0
      },
      "text/plain": [
       "Training epoch 143:   0%|          | 0/100 [00:00<?, ?it/s]"
      ]
     },
     "metadata": {},
     "output_type": "display_data"
    },
    {
     "data": {
      "application/vnd.jupyter.widget-view+json": {
       "model_id": "4c6eaafa5a5c4ee7b86c133917333e5e",
       "version_major": 2,
       "version_minor": 0
      },
      "text/plain": [
       "Training epoch 144:   0%|          | 0/100 [00:00<?, ?it/s]"
      ]
     },
     "metadata": {},
     "output_type": "display_data"
    },
    {
     "data": {
      "application/vnd.jupyter.widget-view+json": {
       "model_id": "b4a8744bebf646da95c86bc989867027",
       "version_major": 2,
       "version_minor": 0
      },
      "text/plain": [
       "Training epoch 145:   0%|          | 0/100 [00:00<?, ?it/s]"
      ]
     },
     "metadata": {},
     "output_type": "display_data"
    },
    {
     "data": {
      "application/vnd.jupyter.widget-view+json": {
       "model_id": "d2184b22f353428493741bfb102d2cc2",
       "version_major": 2,
       "version_minor": 0
      },
      "text/plain": [
       "Training epoch 146:   0%|          | 0/100 [00:00<?, ?it/s]"
      ]
     },
     "metadata": {},
     "output_type": "display_data"
    },
    {
     "data": {
      "application/vnd.jupyter.widget-view+json": {
       "model_id": "d515a27dcb9c43dc98c56d5a09a0704a",
       "version_major": 2,
       "version_minor": 0
      },
      "text/plain": [
       "Training epoch 147:   0%|          | 0/100 [00:00<?, ?it/s]"
      ]
     },
     "metadata": {},
     "output_type": "display_data"
    },
    {
     "data": {
      "application/vnd.jupyter.widget-view+json": {
       "model_id": "e6ea77e9108a4facb2c5bc436e7ee95e",
       "version_major": 2,
       "version_minor": 0
      },
      "text/plain": [
       "Training epoch 148:   0%|          | 0/100 [00:00<?, ?it/s]"
      ]
     },
     "metadata": {},
     "output_type": "display_data"
    },
    {
     "data": {
      "application/vnd.jupyter.widget-view+json": {
       "model_id": "c65c69976b084d4584036343b0825297",
       "version_major": 2,
       "version_minor": 0
      },
      "text/plain": [
       "Training epoch 149:   0%|          | 0/100 [00:00<?, ?it/s]"
      ]
     },
     "metadata": {},
     "output_type": "display_data"
    },
    {
     "data": {
      "application/vnd.jupyter.widget-view+json": {
       "model_id": "86e814ffe6cd4c33af2a32a0eec88900",
       "version_major": 2,
       "version_minor": 0
      },
      "text/plain": [
       "Training epoch 150:   0%|          | 0/100 [00:00<?, ?it/s]"
      ]
     },
     "metadata": {},
     "output_type": "display_data"
    },
    {
     "data": {
      "application/vnd.jupyter.widget-view+json": {
       "model_id": "dad40c316627485b955a7a8e28b15ffa",
       "version_major": 2,
       "version_minor": 0
      },
      "text/plain": [
       "Training epoch 151:   0%|          | 0/100 [00:00<?, ?it/s]"
      ]
     },
     "metadata": {},
     "output_type": "display_data"
    },
    {
     "data": {
      "application/vnd.jupyter.widget-view+json": {
       "model_id": "54987095fbf546feba1b2f123ab28e01",
       "version_major": 2,
       "version_minor": 0
      },
      "text/plain": [
       "Training epoch 152:   0%|          | 0/100 [00:00<?, ?it/s]"
      ]
     },
     "metadata": {},
     "output_type": "display_data"
    },
    {
     "data": {
      "application/vnd.jupyter.widget-view+json": {
       "model_id": "d974fa565d3046f38fa28be3e6f7a1b1",
       "version_major": 2,
       "version_minor": 0
      },
      "text/plain": [
       "Training epoch 153:   0%|          | 0/100 [00:00<?, ?it/s]"
      ]
     },
     "metadata": {},
     "output_type": "display_data"
    },
    {
     "data": {
      "application/vnd.jupyter.widget-view+json": {
       "model_id": "c158d88c18644c52afc8cf89c601f182",
       "version_major": 2,
       "version_minor": 0
      },
      "text/plain": [
       "Training epoch 154:   0%|          | 0/100 [00:00<?, ?it/s]"
      ]
     },
     "metadata": {},
     "output_type": "display_data"
    },
    {
     "data": {
      "application/vnd.jupyter.widget-view+json": {
       "model_id": "da3734d7a6c1428a8183f589f64628d2",
       "version_major": 2,
       "version_minor": 0
      },
      "text/plain": [
       "Training epoch 155:   0%|          | 0/100 [00:00<?, ?it/s]"
      ]
     },
     "metadata": {},
     "output_type": "display_data"
    },
    {
     "data": {
      "application/vnd.jupyter.widget-view+json": {
       "model_id": "37fd6c7f698c442cbf69b1dea23e42c8",
       "version_major": 2,
       "version_minor": 0
      },
      "text/plain": [
       "Training epoch 156:   0%|          | 0/100 [00:00<?, ?it/s]"
      ]
     },
     "metadata": {},
     "output_type": "display_data"
    },
    {
     "data": {
      "application/vnd.jupyter.widget-view+json": {
       "model_id": "d576e4af3c8e4a689f102a5830e00225",
       "version_major": 2,
       "version_minor": 0
      },
      "text/plain": [
       "Training epoch 157:   0%|          | 0/100 [00:00<?, ?it/s]"
      ]
     },
     "metadata": {},
     "output_type": "display_data"
    },
    {
     "data": {
      "application/vnd.jupyter.widget-view+json": {
       "model_id": "3957dd50ab01427a891af9a64fe0d498",
       "version_major": 2,
       "version_minor": 0
      },
      "text/plain": [
       "Training epoch 158:   0%|          | 0/100 [00:00<?, ?it/s]"
      ]
     },
     "metadata": {},
     "output_type": "display_data"
    },
    {
     "data": {
      "application/vnd.jupyter.widget-view+json": {
       "model_id": "ac362849e48f449daa2a6c3a7826e55f",
       "version_major": 2,
       "version_minor": 0
      },
      "text/plain": [
       "Training epoch 159:   0%|          | 0/100 [00:00<?, ?it/s]"
      ]
     },
     "metadata": {},
     "output_type": "display_data"
    },
    {
     "data": {
      "application/vnd.jupyter.widget-view+json": {
       "model_id": "13fa19d3816647c49989b21ec3d4721e",
       "version_major": 2,
       "version_minor": 0
      },
      "text/plain": [
       "Training epoch 160:   0%|          | 0/100 [00:00<?, ?it/s]"
      ]
     },
     "metadata": {},
     "output_type": "display_data"
    },
    {
     "data": {
      "application/vnd.jupyter.widget-view+json": {
       "model_id": "a120457fa730461fbfb5f06d8e2e4661",
       "version_major": 2,
       "version_minor": 0
      },
      "text/plain": [
       "Training epoch 161:   0%|          | 0/100 [00:00<?, ?it/s]"
      ]
     },
     "metadata": {},
     "output_type": "display_data"
    },
    {
     "data": {
      "application/vnd.jupyter.widget-view+json": {
       "model_id": "c7065f7c436b496d8bbf2c5e7e0f4efb",
       "version_major": 2,
       "version_minor": 0
      },
      "text/plain": [
       "Training epoch 162:   0%|          | 0/100 [00:00<?, ?it/s]"
      ]
     },
     "metadata": {},
     "output_type": "display_data"
    },
    {
     "data": {
      "application/vnd.jupyter.widget-view+json": {
       "model_id": "b0ea78e1b34146db99f0bf3800c2f628",
       "version_major": 2,
       "version_minor": 0
      },
      "text/plain": [
       "Training epoch 163:   0%|          | 0/100 [00:00<?, ?it/s]"
      ]
     },
     "metadata": {},
     "output_type": "display_data"
    },
    {
     "data": {
      "application/vnd.jupyter.widget-view+json": {
       "model_id": "d193dc94466e43e8963824bf51c1a957",
       "version_major": 2,
       "version_minor": 0
      },
      "text/plain": [
       "Training epoch 164:   0%|          | 0/100 [00:00<?, ?it/s]"
      ]
     },
     "metadata": {},
     "output_type": "display_data"
    },
    {
     "data": {
      "application/vnd.jupyter.widget-view+json": {
       "model_id": "b244a720b50d4399a026ef1ba1d3ad88",
       "version_major": 2,
       "version_minor": 0
      },
      "text/plain": [
       "Training epoch 165:   0%|          | 0/100 [00:00<?, ?it/s]"
      ]
     },
     "metadata": {},
     "output_type": "display_data"
    },
    {
     "data": {
      "application/vnd.jupyter.widget-view+json": {
       "model_id": "218a32a8563c46b5a668a0fe72662e8e",
       "version_major": 2,
       "version_minor": 0
      },
      "text/plain": [
       "Training epoch 166:   0%|          | 0/100 [00:00<?, ?it/s]"
      ]
     },
     "metadata": {},
     "output_type": "display_data"
    },
    {
     "data": {
      "application/vnd.jupyter.widget-view+json": {
       "model_id": "a703c64e88a5446fb26267bcb499cf75",
       "version_major": 2,
       "version_minor": 0
      },
      "text/plain": [
       "Training epoch 167:   0%|          | 0/100 [00:00<?, ?it/s]"
      ]
     },
     "metadata": {},
     "output_type": "display_data"
    },
    {
     "data": {
      "application/vnd.jupyter.widget-view+json": {
       "model_id": "e66c0cb6a1c44958a49b5daacbc19769",
       "version_major": 2,
       "version_minor": 0
      },
      "text/plain": [
       "Training epoch 168:   0%|          | 0/100 [00:00<?, ?it/s]"
      ]
     },
     "metadata": {},
     "output_type": "display_data"
    },
    {
     "data": {
      "application/vnd.jupyter.widget-view+json": {
       "model_id": "90350080c98a4af0878eed3a03c5ef83",
       "version_major": 2,
       "version_minor": 0
      },
      "text/plain": [
       "Training epoch 169:   0%|          | 0/100 [00:00<?, ?it/s]"
      ]
     },
     "metadata": {},
     "output_type": "display_data"
    },
    {
     "data": {
      "application/vnd.jupyter.widget-view+json": {
       "model_id": "894c6a2608724616a023c387577a4365",
       "version_major": 2,
       "version_minor": 0
      },
      "text/plain": [
       "Training epoch 170:   0%|          | 0/100 [00:00<?, ?it/s]"
      ]
     },
     "metadata": {},
     "output_type": "display_data"
    },
    {
     "data": {
      "application/vnd.jupyter.widget-view+json": {
       "model_id": "2237af6e428147ee96229c3f8002a516",
       "version_major": 2,
       "version_minor": 0
      },
      "text/plain": [
       "Training epoch 171:   0%|          | 0/100 [00:00<?, ?it/s]"
      ]
     },
     "metadata": {},
     "output_type": "display_data"
    },
    {
     "data": {
      "application/vnd.jupyter.widget-view+json": {
       "model_id": "2a5c2882f9b844648fe9a8bae43e6700",
       "version_major": 2,
       "version_minor": 0
      },
      "text/plain": [
       "Training epoch 172:   0%|          | 0/100 [00:00<?, ?it/s]"
      ]
     },
     "metadata": {},
     "output_type": "display_data"
    },
    {
     "data": {
      "application/vnd.jupyter.widget-view+json": {
       "model_id": "0881503810914a1e9cb4e665521b74c0",
       "version_major": 2,
       "version_minor": 0
      },
      "text/plain": [
       "Training epoch 173:   0%|          | 0/100 [00:00<?, ?it/s]"
      ]
     },
     "metadata": {},
     "output_type": "display_data"
    },
    {
     "data": {
      "application/vnd.jupyter.widget-view+json": {
       "model_id": "28293d9f8dad4cfba2eb3ef15f88478e",
       "version_major": 2,
       "version_minor": 0
      },
      "text/plain": [
       "Training epoch 174:   0%|          | 0/100 [00:00<?, ?it/s]"
      ]
     },
     "metadata": {},
     "output_type": "display_data"
    },
    {
     "data": {
      "application/vnd.jupyter.widget-view+json": {
       "model_id": "8b39bbba44e84a1d8914d03088950a35",
       "version_major": 2,
       "version_minor": 0
      },
      "text/plain": [
       "Training epoch 175:   0%|          | 0/100 [00:00<?, ?it/s]"
      ]
     },
     "metadata": {},
     "output_type": "display_data"
    },
    {
     "data": {
      "application/vnd.jupyter.widget-view+json": {
       "model_id": "985932fda826474ba138c8a79bed173e",
       "version_major": 2,
       "version_minor": 0
      },
      "text/plain": [
       "Training epoch 176:   0%|          | 0/100 [00:00<?, ?it/s]"
      ]
     },
     "metadata": {},
     "output_type": "display_data"
    },
    {
     "data": {
      "application/vnd.jupyter.widget-view+json": {
       "model_id": "a17d8cbbe0f44135a7258d6d297ba733",
       "version_major": 2,
       "version_minor": 0
      },
      "text/plain": [
       "Training epoch 177:   0%|          | 0/100 [00:00<?, ?it/s]"
      ]
     },
     "metadata": {},
     "output_type": "display_data"
    },
    {
     "data": {
      "application/vnd.jupyter.widget-view+json": {
       "model_id": "b3cd9664eca542b8b72045ad8f3cb881",
       "version_major": 2,
       "version_minor": 0
      },
      "text/plain": [
       "Training epoch 178:   0%|          | 0/100 [00:00<?, ?it/s]"
      ]
     },
     "metadata": {},
     "output_type": "display_data"
    },
    {
     "data": {
      "application/vnd.jupyter.widget-view+json": {
       "model_id": "ef2f170500e64f80a67b595018149294",
       "version_major": 2,
       "version_minor": 0
      },
      "text/plain": [
       "Training epoch 179:   0%|          | 0/100 [00:00<?, ?it/s]"
      ]
     },
     "metadata": {},
     "output_type": "display_data"
    },
    {
     "data": {
      "application/vnd.jupyter.widget-view+json": {
       "model_id": "5cdafdbd7a8c4e379e1cd0ada2bb4a17",
       "version_major": 2,
       "version_minor": 0
      },
      "text/plain": [
       "Training epoch 180:   0%|          | 0/100 [00:00<?, ?it/s]"
      ]
     },
     "metadata": {},
     "output_type": "display_data"
    }
   ],
   "source": [
    "history = trainer.train_offline(\n",
    "    simulations_dict = train_data, \n",
    "    epochs = 1000, \n",
    "    batch_size = 20\n",
    ")  "
   ]
  },
  {
   "cell_type": "code",
   "execution_count": null,
   "id": "a3578482",
   "metadata": {},
   "outputs": [],
   "source": [
    "history = trainer.train_online(\n",
    "    epochs = 100, \n",
    "    iterations_per_epoch = 100,\n",
    "    batch_size = 16\n",
    ")  "
   ]
  },
  {
   "cell_type": "code",
   "execution_count": null,
   "id": "339b1da5",
   "metadata": {},
   "outputs": [],
   "source": [
    "f = bf.diagnostics.plot_losses(history)"
   ]
  },
  {
   "cell_type": "code",
   "execution_count": 24,
   "id": "15d72b13",
   "metadata": {},
   "outputs": [],
   "source": [
    "# Generate some validation data\n",
    "validation_sims = configurator(model(batch_size=100))\n",
    "\n",
    "# Extract unstandardized prior draws and transform to original scale\n",
    "prior_samples = validation_sims[\"parameters\"]\n"
   ]
  },
  {
   "cell_type": "code",
   "execution_count": 25,
   "id": "8ab547b8",
   "metadata": {},
   "outputs": [],
   "source": [
    "print(\n",
    "    f\"Estimation will be performed on data sets with {validation_sims['summary_conditions'].shape[1]} simulated trials.\"\n",
    ")\n"
   ]
  },
  {
   "cell_type": "code",
   "execution_count": 26,
   "id": "5bee4330",
   "metadata": {},
   "outputs": [],
   "source": [
    "# Generate 100 posterior draws for each of the 1000 simulated data sets\n",
    "post_samples = amortizer.sample(validation_sims, n_samples=100)\n",
    "\n",
    "# Unstandardize posterior draws into original scale\n",
    "post_samples = post_samples "
   ]
  },
  {
   "cell_type": "code",
   "execution_count": 27,
   "id": "aff6cb30",
   "metadata": {},
   "outputs": [],
   "source": [
    "f = bf.diagnostics.plot_sbc_histograms(post_samples, prior_samples, num_bins=10, param_names=PARAM_NAMES)"
   ]
  },
  {
   "cell_type": "code",
   "execution_count": 28,
   "id": "0aada1fd",
   "metadata": {},
   "outputs": [],
   "source": [
    "f = bf.diagnostics.plot_sbc_ecdf(post_samples, prior_samples, stacked=False, difference=True, param_names=PARAM_NAMES)"
   ]
  },
  {
   "cell_type": "code",
   "execution_count": 29,
   "id": "8ac66618",
   "metadata": {},
   "outputs": [],
   "source": [
    "post_samples = amortizer.sample(validation_sims, n_samples=1000)\n"
   ]
  },
  {
   "cell_type": "code",
   "execution_count": 30,
   "id": "e2d80e4c",
   "metadata": {},
   "outputs": [],
   "source": [
    "f = bf.diagnostics.plot_recovery(\n",
    "    post_samples, prior_samples, param_names=prior.param_names, point_agg=np.mean, uncertainty_agg=np.std\n",
    ")"
   ]
  },
  {
   "cell_type": "code",
   "execution_count": 31,
   "id": "825be9bd",
   "metadata": {},
   "outputs": [],
   "source": [
    "f = bf.diagnostics.plot_z_score_contraction(post_samples, prior_samples, param_names=prior.param_names)"
   ]
  },
  {
   "cell_type": "code",
   "execution_count": null,
   "id": "66d9fe9c",
   "metadata": {},
   "outputs": [],
   "source": []
  },
  {
   "cell_type": "code",
   "execution_count": null,
   "id": "6c876cb6",
   "metadata": {},
   "outputs": [],
   "source": []
  }
 ],
 "metadata": {
  "kernelspec": {
   "display_name": "Python 3 (ipykernel)",
   "language": "python",
   "name": "python3"
  },
  "language_info": {
   "codemirror_mode": {
    "name": "ipython",
    "version": 3
   },
   "file_extension": ".py",
   "mimetype": "text/x-python",
   "name": "python",
   "nbconvert_exporter": "python",
   "pygments_lexer": "ipython3",
   "version": "3.11.9"
  }
 },
 "nbformat": 4,
 "nbformat_minor": 5
}
