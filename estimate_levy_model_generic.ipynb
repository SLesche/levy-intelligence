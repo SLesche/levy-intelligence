{
 "cells": [
  {
   "cell_type": "code",
   "execution_count": 1,
   "metadata": {},
   "outputs": [
    {
     "name": "stderr",
     "output_type": "stream",
     "text": [
      "2024-06-17 11:01:54.432819: I tensorflow/core/util/port.cc:113] oneDNN custom operations are on. You may see slightly different numerical results due to floating-point round-off errors from different computation orders. To turn them off, set the environment variable `TF_ENABLE_ONEDNN_OPTS=0`.\n",
      "2024-06-17 11:01:54.434130: I external/local_tsl/tsl/cuda/cudart_stub.cc:31] Could not find cuda drivers on your machine, GPU will not be used.\n",
      "2024-06-17 11:01:54.454534: E external/local_xla/xla/stream_executor/cuda/cuda_dnn.cc:9261] Unable to register cuDNN factory: Attempting to register factory for plugin cuDNN when one has already been registered\n",
      "2024-06-17 11:01:54.454554: E external/local_xla/xla/stream_executor/cuda/cuda_fft.cc:607] Unable to register cuFFT factory: Attempting to register factory for plugin cuFFT when one has already been registered\n",
      "2024-06-17 11:01:54.455154: E external/local_xla/xla/stream_executor/cuda/cuda_blas.cc:1515] Unable to register cuBLAS factory: Attempting to register factory for plugin cuBLAS when one has already been registered\n",
      "2024-06-17 11:01:54.458505: I external/local_tsl/tsl/cuda/cudart_stub.cc:31] Could not find cuda drivers on your machine, GPU will not be used.\n",
      "2024-06-17 11:01:54.459095: I tensorflow/core/platform/cpu_feature_guard.cc:182] This TensorFlow binary is optimized to use available CPU instructions in performance-critical operations.\n",
      "To enable the following instructions: AVX2 AVX_VNNI FMA, in other operations, rebuild TensorFlow with the appropriate compiler flags.\n",
      "2024-06-17 11:01:55.170305: W tensorflow/compiler/tf2tensorrt/utils/py_utils.cc:38] TF-TRT Warning: Could not find TensorRT\n",
      "2024-06-17 11:01:55.575979: I itex/core/wrapper/itex_cpu_wrapper.cc:70] Intel Extension for Tensorflow* AVX2 CPU backend is loaded.\n",
      "2024-06-17 11:01:55.648314: I external/local_xla/xla/stream_executor/cuda/cuda_executor.cc:887] could not open file to read NUMA node: /sys/bus/pci/devices/0000:01:00.0/numa_node\n",
      "Your kernel may have been built without NUMA support.\n",
      "2024-06-17 11:01:55.648488: W tensorflow/core/common_runtime/gpu/gpu_device.cc:2256] Cannot dlopen some GPU libraries. Please make sure the missing libraries mentioned above are installed properly if you would like to use GPU. Follow the guide at https://www.tensorflow.org/install/gpu for how to download and setup the required libraries for your platform.\n",
      "Skipping registering GPU devices...\n",
      "/home/slesche/.local/lib/python3.10/site-packages/bayesflow/trainers.py:27: TqdmExperimentalWarning: Using `tqdm.autonotebook.tqdm` in notebook mode. Use `tqdm.tqdm` instead to force console mode (e.g. in jupyter console)\n",
      "  from tqdm.autonotebook import tqdm\n"
     ]
    },
    {
     "name": "stdout",
     "output_type": "stream",
     "text": [
      "2.15.1\n"
     ]
    },
    {
     "name": "stderr",
     "output_type": "stream",
     "text": [
      "INFO:root:Performing 2 pilot runs with the lfm model...\n",
      "INFO:root:Shape of parameter batch after 2 pilot simulations: (batch_size = 2, 5)\n",
      "INFO:root:Shape of simulation batch after 2 pilot simulations: (batch_size = 2, 1000, 2)\n",
      "INFO:root:No optional prior non-batchable context provided.\n",
      "INFO:root:No optional prior batchable context provided.\n",
      "INFO:root:No optional simulation non-batchable context provided.\n",
      "INFO:root:No optional simulation batchable context provided.\n"
     ]
    },
    {
     "name": "stdout",
     "output_type": "stream",
     "text": [
      "[[2.6 3.  0.4 0.2 1.3]] [[1.1 3.  0.3 0.3 0.4]]\n"
     ]
    },
    {
     "name": "stderr",
     "output_type": "stream",
     "text": [
      "INFO:root:Loaded loss history from checkpoints//generic/history_150.pkl.\n",
      "INFO:root:Networks loaded from checkpoints//generic/ckpt-150\n",
      "INFO:root:Performing a consistency check with provided components...\n",
      "INFO:root:Done.\n"
     ]
    }
   ],
   "source": [
    "%run setup_levy_model_generic.py"
   ]
  },
  {
   "cell_type": "code",
   "execution_count": 2,
   "metadata": {},
   "outputs": [],
   "source": [
    "# Loading data\n",
    "import pandas as pd\n",
    "import os\n",
    "import fnmatch\n",
    "import glob \n",
    "from keras.utils import to_categorical"
   ]
  },
  {
   "cell_type": "code",
   "execution_count": 3,
   "metadata": {},
   "outputs": [],
   "source": [
    "def config_observed_data(forward_dict):\n",
    "    \"\"\"Configure the output of the GenerativeModel for a BayesFlow setup.\"\"\"\n",
    "\n",
    "    # Prepare placeholder dict\n",
    "    out_dict = {}\n",
    "\n",
    "    # Extract simulated response times\n",
    "    data = forward_dict[\"data\"]\n",
    "    data = data[np.newaxis,:,:]\n",
    "    out_dict[\"summary_conditions\"] = data.astype(np.float32)\n",
    "\n",
    "    # Make inference network aware of varying numbers of trials\n",
    "    # We create a vector of shape (batch_size, 1) by repeating the sqrt(num_obs)\n",
    "    vec_num_obs = np.sqrt(data.shape[0]) * np.ones((data.shape[0], 1))\n",
    "    out_dict[\"direct_conditions\"] = np.sqrt(vec_num_obs).astype(np.float32)\n",
    "\n",
    "    return out_dict"
   ]
  },
  {
   "cell_type": "code",
   "execution_count": 4,
   "metadata": {},
   "outputs": [],
   "source": [
    "def get_posterior_means(file):\n",
    "    raw_data = pd.read_csv(file)\n",
    "    # raw_data[\"stim\"] = raw_data[\"stim\"]-1\n",
    "    # raw_data[\"rt\"] = raw_data[\"rt\"]/1000\n",
    "    raw_data[\"rt\"] = (raw_data[\"resp\"]*2 - 1) * raw_data[\"rt\"] # to negate wrong rts\n",
    "    condition = raw_data[\"resp\"]*0 # set it all to 0\n",
    "    data = np.c_[condition, raw_data[\"rt\"].to_numpy()]\n",
    "    input_dict = {\n",
    "        'data': data\n",
    "    }\n",
    "    \n",
    "    theta_hat = amortizer.sample(config_observed_data(input_dict), 5000, to_numpy=True)\n",
    "    std_means = np.mean(theta_hat, axis=0)\n",
    "    return(prior_means + std_means*prior_stds)"
   ]
  },
  {
   "cell_type": "code",
   "execution_count": 7,
   "metadata": {},
   "outputs": [
    {
     "name": "stdout",
     "output_type": "stream",
     "text": [
      "Task not found sternberg\n"
     ]
    },
    {
     "ename": "NameError",
     "evalue": "name 'conditions' is not defined",
     "output_type": "error",
     "traceback": [
      "\u001b[0;31m---------------------------------------------------------------------------\u001b[0m",
      "\u001b[0;31mNameError\u001b[0m                                 Traceback (most recent call last)",
      "Cell \u001b[0;32mIn[7], line 15\u001b[0m\n\u001b[1;32m     12\u001b[0m \u001b[38;5;28;01melse\u001b[39;00m:\n\u001b[1;32m     13\u001b[0m     \u001b[38;5;28mprint\u001b[39m(\u001b[38;5;124m'\u001b[39m\u001b[38;5;124mTask not found\u001b[39m\u001b[38;5;124m'\u001b[39m, task)\n\u001b[0;32m---> 15\u001b[0m \u001b[38;5;28;01mfor\u001b[39;00m condition \u001b[38;5;129;01min\u001b[39;00m \u001b[43mconditions\u001b[49m:\n\u001b[1;32m     16\u001b[0m     mask \u001b[38;5;241m=\u001b[39m path_to_data \u001b[38;5;241m+\u001b[39m task \u001b[38;5;241m+\u001b[39m \u001b[38;5;124m'\u001b[39m\u001b[38;5;124m/condition_\u001b[39m\u001b[38;5;124m'\u001b[39m, \u001b[38;5;28mstr\u001b[39m(condition), \u001b[38;5;124m'\u001b[39m\u001b[38;5;124m/\u001b[39m\u001b[38;5;124m'\u001b[39m \u001b[38;5;241m+\u001b[39m task \u001b[38;5;241m+\u001b[39m \u001b[38;5;124m'\u001b[39m\u001b[38;5;124m_data*.csv\u001b[39m\u001b[38;5;124m'\u001b[39m\n\u001b[1;32m     17\u001b[0m     \u001b[38;5;28mprint\u001b[39m(mask)\n",
      "\u001b[0;31mNameError\u001b[0m: name 'conditions' is not defined"
     ]
    }
   ],
   "source": [
    "# Loop through each datafile and estimate \n",
    "path_to_data = 'data/levy_data/'\n",
    "PAR = pd.DataFrame(columns=['task', 'sub', 'condition', 'a', 'v', 't', 'st', 'alpha'])\n",
    "tasks = ['sternberg', 'posner', 'hick']\n",
    "for task in tasks:\n",
    "    if task == 'sternberg':\n",
    "        conditions = ['s1', 's3', 's5']\n",
    "    elif task == 'posner':\n",
    "        conditions = ['pi', 'ni']\n",
    "    elif task == 'hick':\n",
    "        conditions = ['0bit', '1bit', '2bit']\n",
    "    else:\n",
    "        print('Task not found', task)\n",
    "        \n",
    "    for condition in conditions:\n",
    "        mask = path_to_data + task + '/condition_', str(condition), '/' + task + '_data*.csv'\n",
    "        print(mask)\n",
    "        datafiles = glob.glob(mask) \n",
    "\n",
    "        for file in datafiles:\n",
    "            print(file)\n",
    "            par = get_posterior_means(file)\n",
    "            print(np.round(par,2))\n",
    "            result = pd.DataFrame(par.reshape(1,7),columns=['a', 'v', 't', 'st', 'alpha'])\n",
    "            result['task'] = task\n",
    "            result['sub'] = file.split('_')[-1].split('.')[0]\n",
    "            result['condition'] = condition\n",
    "            PAR = pd.concat([PAR, result], ignore_index=True)    "
   ]
  },
  {
   "cell_type": "code",
   "execution_count": 15,
   "metadata": {},
   "outputs": [],
   "source": [
    "PAR.to_csv(path_to_data + 'results/levy_mat_parameters.csv', index=False)"
   ]
  }
 ],
 "metadata": {
  "kernelspec": {
   "display_name": "bf",
   "language": "python",
   "name": "python3"
  },
  "language_info": {
   "codemirror_mode": {
    "name": "ipython",
    "version": 3
   },
   "file_extension": ".py",
   "mimetype": "text/x-python",
   "name": "python",
   "nbconvert_exporter": "python",
   "pygments_lexer": "ipython3",
   "version": "3.10.14"
  }
 },
 "nbformat": 4,
 "nbformat_minor": 2
}
