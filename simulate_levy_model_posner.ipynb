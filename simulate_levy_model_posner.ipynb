{
 "cells": [
  {
   "cell_type": "code",
   "execution_count": 4,
   "metadata": {},
   "outputs": [
    {
     "name": "stdout",
     "output_type": "stream",
     "text": [
      "2.15.1\n"
     ]
    },
    {
     "name": "stderr",
     "output_type": "stream",
     "text": [
      "INFO:root:Performing 2 pilot runs with the lfm model...\n",
      "INFO:root:Shape of parameter batch after 2 pilot simulations: (batch_size = 2, 7)\n",
      "INFO:root:Shape of simulation batch after 2 pilot simulations: (batch_size = 2, 600, 2)\n",
      "INFO:root:No optional prior non-batchable context provided.\n",
      "INFO:root:No optional prior batchable context provided.\n",
      "INFO:root:No optional simulation non-batchable context provided.\n",
      "INFO:root:No optional simulation batchable context provided.\n",
      "INFO:root:Initialized empty loss history.\n",
      "INFO:root:Initialized networks from scratch.\n",
      "INFO:root:Performing a consistency check with provided components...\n"
     ]
    },
    {
     "name": "stdout",
     "output_type": "stream",
     "text": [
      "[[1.1 1.1 3.  3.  0.3 0.2 1.5]] [[0.6 0.6 3.  3.  0.2 0.2 0.3]]\n"
     ]
    },
    {
     "name": "stderr",
     "output_type": "stream",
     "text": [
      "INFO:root:Done.\n"
     ]
    }
   ],
   "source": [
    "%run setup_levy_model_posner.py"
   ]
  },
  {
   "cell_type": "code",
   "execution_count": 2,
   "metadata": {},
   "outputs": [
    {
     "ename": "KeyboardInterrupt",
     "evalue": "",
     "output_type": "error",
     "traceback": [
      "\u001b[0;31m---------------------------------------------------------------------------\u001b[0m",
      "\u001b[0;31mKeyboardInterrupt\u001b[0m                         Traceback (most recent call last)",
      "File \u001b[0;32m<timed exec>:3\u001b[0m\n",
      "File \u001b[0;32m~/.local/lib/python3.10/site-packages/bayesflow/simulation.py:773\u001b[0m, in \u001b[0;36mGenerativeModel.__call__\u001b[0;34m(self, batch_size, **kwargs)\u001b[0m\n\u001b[1;32m    771\u001b[0m \u001b[38;5;66;03m# Forward inference\u001b[39;00m\n\u001b[1;32m    772\u001b[0m prior_out \u001b[38;5;241m=\u001b[39m \u001b[38;5;28mself\u001b[39m\u001b[38;5;241m.\u001b[39mprior(batch_size, \u001b[38;5;241m*\u001b[39m\u001b[38;5;241m*\u001b[39mkwargs\u001b[38;5;241m.\u001b[39mpop(\u001b[38;5;124m\"\u001b[39m\u001b[38;5;124mprior_args\u001b[39m\u001b[38;5;124m\"\u001b[39m, {}))\n\u001b[0;32m--> 773\u001b[0m sim_out \u001b[38;5;241m=\u001b[39m \u001b[38;5;28;43mself\u001b[39;49m\u001b[38;5;241;43m.\u001b[39;49m\u001b[43msimulator\u001b[49m\u001b[43m(\u001b[49m\u001b[43mprior_out\u001b[49m\u001b[43m[\u001b[49m\u001b[38;5;124;43m\"\u001b[39;49m\u001b[38;5;124;43mprior_draws\u001b[39;49m\u001b[38;5;124;43m\"\u001b[39;49m\u001b[43m]\u001b[49m\u001b[43m,\u001b[49m\u001b[43m \u001b[49m\u001b[38;5;241;43m*\u001b[39;49m\u001b[38;5;241;43m*\u001b[39;49m\u001b[43mkwargs\u001b[49m\u001b[38;5;241;43m.\u001b[39;49m\u001b[43mpop\u001b[49m\u001b[43m(\u001b[49m\u001b[38;5;124;43m\"\u001b[39;49m\u001b[38;5;124;43msim_args\u001b[39;49m\u001b[38;5;124;43m\"\u001b[39;49m\u001b[43m,\u001b[49m\u001b[43m \u001b[49m\u001b[43m{\u001b[49m\u001b[43m}\u001b[49m\u001b[43m)\u001b[49m\u001b[43m)\u001b[49m\n\u001b[1;32m    775\u001b[0m \u001b[38;5;66;03m# Prepare and fill placeholder dict\u001b[39;00m\n\u001b[1;32m    776\u001b[0m out_dict \u001b[38;5;241m=\u001b[39m {\n\u001b[1;32m    777\u001b[0m     DEFAULT_KEYS[\u001b[38;5;124m\"\u001b[39m\u001b[38;5;124mprior_non_batchable_context\u001b[39m\u001b[38;5;124m\"\u001b[39m]: prior_out[DEFAULT_KEYS[\u001b[38;5;124m\"\u001b[39m\u001b[38;5;124mnon_batchable_context\u001b[39m\u001b[38;5;124m\"\u001b[39m]],\n\u001b[1;32m    778\u001b[0m     DEFAULT_KEYS[\u001b[38;5;124m\"\u001b[39m\u001b[38;5;124mprior_batchable_context\u001b[39m\u001b[38;5;124m\"\u001b[39m]: prior_out[DEFAULT_KEYS[\u001b[38;5;124m\"\u001b[39m\u001b[38;5;124mbatchable_context\u001b[39m\u001b[38;5;124m\"\u001b[39m]],\n\u001b[0;32m   (...)\u001b[0m\n\u001b[1;32m    782\u001b[0m     DEFAULT_KEYS[\u001b[38;5;124m\"\u001b[39m\u001b[38;5;124msim_data\u001b[39m\u001b[38;5;124m\"\u001b[39m]: sim_out[DEFAULT_KEYS[\u001b[38;5;124m\"\u001b[39m\u001b[38;5;124msim_data\u001b[39m\u001b[38;5;124m\"\u001b[39m]],\n\u001b[1;32m    783\u001b[0m }\n",
      "File \u001b[0;32m~/.local/lib/python3.10/site-packages/bayesflow/simulation.py:598\u001b[0m, in \u001b[0;36mSimulator.__call__\u001b[0;34m(self, params, *args, **kwargs)\u001b[0m\n\u001b[1;32m    596\u001b[0m \u001b[38;5;28;01mif\u001b[39;00m \u001b[38;5;28mself\u001b[39m\u001b[38;5;241m.\u001b[39mis_batched:\n\u001b[1;32m    597\u001b[0m     \u001b[38;5;28;01mreturn\u001b[39;00m \u001b[38;5;28mself\u001b[39m\u001b[38;5;241m.\u001b[39m_simulate_batched(params, out_dict, \u001b[38;5;241m*\u001b[39margs, \u001b[38;5;241m*\u001b[39m\u001b[38;5;241m*\u001b[39mkwargs)\n\u001b[0;32m--> 598\u001b[0m \u001b[38;5;28;01mreturn\u001b[39;00m \u001b[38;5;28;43mself\u001b[39;49m\u001b[38;5;241;43m.\u001b[39;49m\u001b[43m_simulate_non_batched\u001b[49m\u001b[43m(\u001b[49m\u001b[43mparams\u001b[49m\u001b[43m,\u001b[49m\u001b[43m \u001b[49m\u001b[43mout_dict\u001b[49m\u001b[43m,\u001b[49m\u001b[43m \u001b[49m\u001b[38;5;241;43m*\u001b[39;49m\u001b[43margs\u001b[49m\u001b[43m,\u001b[49m\u001b[43m \u001b[49m\u001b[38;5;241;43m*\u001b[39;49m\u001b[38;5;241;43m*\u001b[39;49m\u001b[43mkwargs\u001b[49m\u001b[43m)\u001b[49m\n",
      "File \u001b[0;32m~/.local/lib/python3.10/site-packages/bayesflow/simulation.py:655\u001b[0m, in \u001b[0;36mSimulator._simulate_non_batched\u001b[0;34m(self, params, out_dict, *args, **kwargs)\u001b[0m\n\u001b[1;32m    649\u001b[0m \u001b[38;5;66;03m# No context type\u001b[39;00m\n\u001b[1;32m    650\u001b[0m \u001b[38;5;28;01mif\u001b[39;00m (\n\u001b[1;32m    651\u001b[0m     out_dict[DEFAULT_KEYS[\u001b[38;5;124m\"\u001b[39m\u001b[38;5;124mbatchable_context\u001b[39m\u001b[38;5;124m\"\u001b[39m]] \u001b[38;5;129;01mis\u001b[39;00m \u001b[38;5;28;01mNone\u001b[39;00m\n\u001b[1;32m    652\u001b[0m     \u001b[38;5;129;01mand\u001b[39;00m out_dict[DEFAULT_KEYS[\u001b[38;5;124m\"\u001b[39m\u001b[38;5;124mnon_batchable_context\u001b[39m\u001b[38;5;124m\"\u001b[39m]] \u001b[38;5;129;01mis\u001b[39;00m \u001b[38;5;28;01mNone\u001b[39;00m\n\u001b[1;32m    653\u001b[0m ):\n\u001b[1;32m    654\u001b[0m     out_dict[DEFAULT_KEYS[\u001b[38;5;124m\"\u001b[39m\u001b[38;5;124msim_data\u001b[39m\u001b[38;5;124m\"\u001b[39m]] \u001b[38;5;241m=\u001b[39m np\u001b[38;5;241m.\u001b[39marray(\n\u001b[0;32m--> 655\u001b[0m         [\u001b[38;5;28mself\u001b[39m\u001b[38;5;241m.\u001b[39msimulator(non_batched_params[b], \u001b[38;5;241m*\u001b[39margs, \u001b[38;5;241m*\u001b[39m\u001b[38;5;241m*\u001b[39mkwargs) \u001b[38;5;28;01mfor\u001b[39;00m b \u001b[38;5;129;01min\u001b[39;00m \u001b[38;5;28mrange\u001b[39m(batch_size)]\n\u001b[1;32m    656\u001b[0m     )\n\u001b[1;32m    658\u001b[0m \u001b[38;5;66;03m# Only batchable context\u001b[39;00m\n\u001b[1;32m    659\u001b[0m \u001b[38;5;28;01melif\u001b[39;00m out_dict[\u001b[38;5;124m\"\u001b[39m\u001b[38;5;124mnon_batchable_context\u001b[39m\u001b[38;5;124m\"\u001b[39m] \u001b[38;5;129;01mis\u001b[39;00m \u001b[38;5;28;01mNone\u001b[39;00m:\n",
      "File \u001b[0;32m~/.local/lib/python3.10/site-packages/bayesflow/simulation.py:655\u001b[0m, in \u001b[0;36m<listcomp>\u001b[0;34m(.0)\u001b[0m\n\u001b[1;32m    649\u001b[0m \u001b[38;5;66;03m# No context type\u001b[39;00m\n\u001b[1;32m    650\u001b[0m \u001b[38;5;28;01mif\u001b[39;00m (\n\u001b[1;32m    651\u001b[0m     out_dict[DEFAULT_KEYS[\u001b[38;5;124m\"\u001b[39m\u001b[38;5;124mbatchable_context\u001b[39m\u001b[38;5;124m\"\u001b[39m]] \u001b[38;5;129;01mis\u001b[39;00m \u001b[38;5;28;01mNone\u001b[39;00m\n\u001b[1;32m    652\u001b[0m     \u001b[38;5;129;01mand\u001b[39;00m out_dict[DEFAULT_KEYS[\u001b[38;5;124m\"\u001b[39m\u001b[38;5;124mnon_batchable_context\u001b[39m\u001b[38;5;124m\"\u001b[39m]] \u001b[38;5;129;01mis\u001b[39;00m \u001b[38;5;28;01mNone\u001b[39;00m\n\u001b[1;32m    653\u001b[0m ):\n\u001b[1;32m    654\u001b[0m     out_dict[DEFAULT_KEYS[\u001b[38;5;124m\"\u001b[39m\u001b[38;5;124msim_data\u001b[39m\u001b[38;5;124m\"\u001b[39m]] \u001b[38;5;241m=\u001b[39m np\u001b[38;5;241m.\u001b[39marray(\n\u001b[0;32m--> 655\u001b[0m         [\u001b[38;5;28;43mself\u001b[39;49m\u001b[38;5;241;43m.\u001b[39;49m\u001b[43msimulator\u001b[49m\u001b[43m(\u001b[49m\u001b[43mnon_batched_params\u001b[49m\u001b[43m[\u001b[49m\u001b[43mb\u001b[49m\u001b[43m]\u001b[49m\u001b[43m,\u001b[49m\u001b[43m \u001b[49m\u001b[38;5;241;43m*\u001b[39;49m\u001b[43margs\u001b[49m\u001b[43m,\u001b[49m\u001b[43m \u001b[49m\u001b[38;5;241;43m*\u001b[39;49m\u001b[38;5;241;43m*\u001b[39;49m\u001b[43mkwargs\u001b[49m\u001b[43m)\u001b[49m \u001b[38;5;28;01mfor\u001b[39;00m b \u001b[38;5;129;01min\u001b[39;00m \u001b[38;5;28mrange\u001b[39m(batch_size)]\n\u001b[1;32m    656\u001b[0m     )\n\u001b[1;32m    658\u001b[0m \u001b[38;5;66;03m# Only batchable context\u001b[39;00m\n\u001b[1;32m    659\u001b[0m \u001b[38;5;28;01melif\u001b[39;00m out_dict[\u001b[38;5;124m\"\u001b[39m\u001b[38;5;124mnon_batchable_context\u001b[39m\u001b[38;5;124m\"\u001b[39m] \u001b[38;5;129;01mis\u001b[39;00m \u001b[38;5;28;01mNone\u001b[39;00m:\n",
      "File \u001b[0;32m/mnt/c/Users/Sven/Documents/projects/research/levy-intelligence/setup_levy_model_posner.py:89\u001b[0m, in \u001b[0;36mLF_experiment\u001b[0;34m(theta, n_obs)\u001b[0m\n\u001b[1;32m     87\u001b[0m sim_data[:,\u001b[38;5;241m0\u001b[39m] \u001b[38;5;241m=\u001b[39m cnd\n\u001b[1;32m     88\u001b[0m \u001b[38;5;28;01mfor\u001b[39;00m i \u001b[38;5;129;01min\u001b[39;00m \u001b[38;5;28mrange\u001b[39m(n_obs):\n\u001b[0;32m---> 89\u001b[0m     sim_data[i,\u001b[38;5;241m1\u001b[39m] \u001b[38;5;241m=\u001b[39m \u001b[43msimulate_levy_trial\u001b[49m\u001b[43m(\u001b[49m\n\u001b[1;32m     90\u001b[0m \u001b[43m                        \u001b[49m\u001b[43ma\u001b[49m\u001b[43m \u001b[49m\u001b[38;5;241;43m=\u001b[39;49m\u001b[43m \u001b[49m\u001b[43mtheta\u001b[49m\u001b[43m[\u001b[49m\u001b[38;5;241;43m0\u001b[39;49m\u001b[43m \u001b[49m\u001b[38;5;241;43m+\u001b[39;49m\u001b[43m \u001b[49m\u001b[43mcnd\u001b[49m\u001b[43m[\u001b[49m\u001b[43mi\u001b[49m\u001b[43m]\u001b[49m\u001b[43m]\u001b[49m\u001b[43m,\u001b[49m\u001b[43m \u001b[49m\n\u001b[1;32m     91\u001b[0m \u001b[43m                        \u001b[49m\u001b[43mz\u001b[49m\u001b[43m \u001b[49m\u001b[38;5;241;43m=\u001b[39;49m\u001b[43m \u001b[49m\u001b[38;5;241;43m0.5\u001b[39;49m\u001b[43m,\u001b[49m\n\u001b[1;32m     92\u001b[0m \u001b[43m                        \u001b[49m\u001b[43mv\u001b[49m\u001b[43m \u001b[49m\u001b[38;5;241;43m=\u001b[39;49m\u001b[43m \u001b[49m\u001b[43mtheta\u001b[49m\u001b[43m[\u001b[49m\u001b[38;5;241;43m2\u001b[39;49m\u001b[43m \u001b[49m\u001b[38;5;241;43m+\u001b[39;49m\u001b[43m \u001b[49m\u001b[43mcnd\u001b[49m\u001b[43m[\u001b[49m\u001b[43mi\u001b[49m\u001b[43m]\u001b[49m\u001b[43m]\u001b[49m\u001b[43m,\u001b[49m\u001b[43m \u001b[49m\u001b[38;5;66;43;03m# for a 3 condition experiment, this needs 3\u001b[39;49;00m\n\u001b[1;32m     93\u001b[0m \u001b[43m                        \u001b[49m\u001b[43mt\u001b[49m\u001b[43m \u001b[49m\u001b[38;5;241;43m=\u001b[39;49m\u001b[43m \u001b[49m\u001b[43mnp\u001b[49m\u001b[38;5;241;43m.\u001b[39;49m\u001b[43mrandom\u001b[49m\u001b[38;5;241;43m.\u001b[39;49m\u001b[43muniform\u001b[49m\u001b[43m(\u001b[49m\u001b[43mtheta\u001b[49m\u001b[43m[\u001b[49m\u001b[38;5;241;43m4\u001b[39;49m\u001b[43m]\u001b[49m\u001b[43m \u001b[49m\u001b[38;5;241;43m-\u001b[39;49m\u001b[43m \u001b[49m\u001b[43mtheta\u001b[49m\u001b[43m[\u001b[49m\u001b[38;5;241;43m5\u001b[39;49m\u001b[43m]\u001b[49m\u001b[38;5;241;43m/\u001b[39;49m\u001b[38;5;241;43m2\u001b[39;49m\u001b[43m,\u001b[49m\u001b[43m \u001b[49m\u001b[43mtheta\u001b[49m\u001b[43m[\u001b[49m\u001b[38;5;241;43m4\u001b[39;49m\u001b[43m]\u001b[49m\u001b[43m \u001b[49m\u001b[38;5;241;43m+\u001b[39;49m\u001b[43m \u001b[49m\u001b[43mtheta\u001b[49m\u001b[43m[\u001b[49m\u001b[38;5;241;43m5\u001b[39;49m\u001b[43m]\u001b[49m\u001b[38;5;241;43m/\u001b[39;49m\u001b[38;5;241;43m2\u001b[39;49m\u001b[43m)\u001b[49m\u001b[43m,\u001b[49m\u001b[43m \u001b[49m\n\u001b[1;32m     94\u001b[0m \u001b[43m                        \u001b[49m\u001b[43malpha\u001b[49m\u001b[43m \u001b[49m\u001b[38;5;241;43m=\u001b[39;49m\u001b[43m \u001b[49m\u001b[43mtheta\u001b[49m\u001b[43m[\u001b[49m\u001b[38;5;241;43m6\u001b[39;49m\u001b[43m]\u001b[49m\n\u001b[1;32m     95\u001b[0m \u001b[43m                    \u001b[49m\u001b[43m)\u001b[49m   \n\u001b[1;32m     96\u001b[0m \u001b[38;5;28;01mreturn\u001b[39;00m sim_data\u001b[38;5;241m.\u001b[39mastype(np\u001b[38;5;241m.\u001b[39mfloat32)\n",
      "File \u001b[0;32m/mnt/c/Users/Sven/Documents/projects/research/levy-intelligence/setup_levy_model_posner.py:40\u001b[0m, in \u001b[0;36msimulate_levy_trial\u001b[0;34m(a, z, v, t, alpha, dt)\u001b[0m\n\u001b[1;32m     37\u001b[0m cnt \u001b[38;5;241m=\u001b[39m \u001b[38;5;241m0\u001b[39m\n\u001b[1;32m     39\u001b[0m \u001b[38;5;28;01mwhile\u001b[39;00m(\u001b[38;5;28;01mTrue\u001b[39;00m):\n\u001b[0;32m---> 40\u001b[0m     path \u001b[38;5;241m=\u001b[39m np\u001b[38;5;241m.\u001b[39marray(start \u001b[38;5;241m+\u001b[39m np\u001b[38;5;241m.\u001b[39mcumsum(v\u001b[38;5;241m*\u001b[39mdt \u001b[38;5;241m+\u001b[39m \u001b[43mlevy_stable\u001b[49m\u001b[38;5;241;43m.\u001b[39;49m\u001b[43mrvs\u001b[49m\u001b[43m(\u001b[49m\u001b[43malpha\u001b[49m\u001b[43m,\u001b[49m\u001b[43m \u001b[49m\u001b[38;5;241;43m0\u001b[39;49m\u001b[43m,\u001b[49m\u001b[43m \u001b[49m\u001b[43mscale\u001b[49m\u001b[38;5;241;43m=\u001b[39;49m\u001b[43mscale\u001b[49m\u001b[43m,\u001b[49m\u001b[43m \u001b[49m\u001b[43msize\u001b[49m\u001b[38;5;241;43m=\u001b[39;49m\u001b[43mbin_size\u001b[49m\u001b[43m)\u001b[49m))\n\u001b[1;32m     41\u001b[0m     \u001b[38;5;28;01mif\u001b[39;00m np\u001b[38;5;241m.\u001b[39many(path \u001b[38;5;241m<\u001b[39m \u001b[38;5;241m0\u001b[39m): \n\u001b[1;32m     42\u001b[0m         cnt \u001b[38;5;241m=\u001b[39m cnt \u001b[38;5;241m+\u001b[39m np\u001b[38;5;241m.\u001b[39mmin(np\u001b[38;5;241m.\u001b[39mwhere(path \u001b[38;5;241m<\u001b[39m \u001b[38;5;241m0\u001b[39m))\n",
      "File \u001b[0;32m~/.local/lib/python3.10/site-packages/scipy/stats/_levy_stable/__init__.py:838\u001b[0m, in \u001b[0;36mlevy_stable_gen.rvs\u001b[0;34m(self, *args, **kwds)\u001b[0m\n\u001b[1;32m    836\u001b[0m \u001b[38;5;129m@inherit_docstring_from\u001b[39m(rv_continuous)\n\u001b[1;32m    837\u001b[0m \u001b[38;5;28;01mdef\u001b[39;00m \u001b[38;5;21mrvs\u001b[39m(\u001b[38;5;28mself\u001b[39m, \u001b[38;5;241m*\u001b[39margs, \u001b[38;5;241m*\u001b[39m\u001b[38;5;241m*\u001b[39mkwds):\n\u001b[0;32m--> 838\u001b[0m     X1 \u001b[38;5;241m=\u001b[39m \u001b[38;5;28;43msuper\u001b[39;49m\u001b[43m(\u001b[49m\u001b[43m)\u001b[49m\u001b[38;5;241;43m.\u001b[39;49m\u001b[43mrvs\u001b[49m\u001b[43m(\u001b[49m\u001b[38;5;241;43m*\u001b[39;49m\u001b[43margs\u001b[49m\u001b[43m,\u001b[49m\u001b[43m \u001b[49m\u001b[38;5;241;43m*\u001b[39;49m\u001b[38;5;241;43m*\u001b[39;49m\u001b[43mkwds\u001b[49m\u001b[43m)\u001b[49m\n\u001b[1;32m    840\u001b[0m     kwds\u001b[38;5;241m.\u001b[39mpop(\u001b[38;5;124m\"\u001b[39m\u001b[38;5;124mdiscrete\u001b[39m\u001b[38;5;124m\"\u001b[39m, \u001b[38;5;28;01mNone\u001b[39;00m)\n\u001b[1;32m    841\u001b[0m     kwds\u001b[38;5;241m.\u001b[39mpop(\u001b[38;5;124m\"\u001b[39m\u001b[38;5;124mrandom_state\u001b[39m\u001b[38;5;124m\"\u001b[39m, \u001b[38;5;28;01mNone\u001b[39;00m)\n",
      "File \u001b[0;32m~/.local/lib/python3.10/site-packages/scipy/stats/_distn_infrastructure.py:1069\u001b[0m, in \u001b[0;36mrv_generic.rvs\u001b[0;34m(self, *args, **kwds)\u001b[0m\n\u001b[1;32m   1066\u001b[0m \u001b[38;5;28;01melse\u001b[39;00m:\n\u001b[1;32m   1067\u001b[0m     random_state \u001b[38;5;241m=\u001b[39m \u001b[38;5;28mself\u001b[39m\u001b[38;5;241m.\u001b[39m_random_state\n\u001b[0;32m-> 1069\u001b[0m vals \u001b[38;5;241m=\u001b[39m \u001b[38;5;28;43mself\u001b[39;49m\u001b[38;5;241;43m.\u001b[39;49m\u001b[43m_rvs\u001b[49m\u001b[43m(\u001b[49m\u001b[38;5;241;43m*\u001b[39;49m\u001b[43margs\u001b[49m\u001b[43m,\u001b[49m\u001b[43m \u001b[49m\u001b[43msize\u001b[49m\u001b[38;5;241;43m=\u001b[39;49m\u001b[43msize\u001b[49m\u001b[43m,\u001b[49m\u001b[43m \u001b[49m\u001b[43mrandom_state\u001b[49m\u001b[38;5;241;43m=\u001b[39;49m\u001b[43mrandom_state\u001b[49m\u001b[43m)\u001b[49m\n\u001b[1;32m   1071\u001b[0m vals \u001b[38;5;241m=\u001b[39m vals \u001b[38;5;241m*\u001b[39m scale \u001b[38;5;241m+\u001b[39m loc\n\u001b[1;32m   1073\u001b[0m \u001b[38;5;66;03m# do not forget to restore the _random_state\u001b[39;00m\n",
      "File \u001b[0;32m~/.local/lib/python3.10/site-packages/scipy/stats/_levy_stable/__init__.py:859\u001b[0m, in \u001b[0;36mlevy_stable_gen._rvs\u001b[0;34m(self, alpha, beta, size, random_state)\u001b[0m\n\u001b[1;32m    858\u001b[0m \u001b[38;5;28;01mdef\u001b[39;00m \u001b[38;5;21m_rvs\u001b[39m(\u001b[38;5;28mself\u001b[39m, alpha, beta, size\u001b[38;5;241m=\u001b[39m\u001b[38;5;28;01mNone\u001b[39;00m, random_state\u001b[38;5;241m=\u001b[39m\u001b[38;5;28;01mNone\u001b[39;00m):\n\u001b[0;32m--> 859\u001b[0m     \u001b[38;5;28;01mreturn\u001b[39;00m \u001b[43m_rvs_Z1\u001b[49m\u001b[43m(\u001b[49m\u001b[43malpha\u001b[49m\u001b[43m,\u001b[49m\u001b[43m \u001b[49m\u001b[43mbeta\u001b[49m\u001b[43m,\u001b[49m\u001b[43m \u001b[49m\u001b[43msize\u001b[49m\u001b[43m,\u001b[49m\u001b[43m \u001b[49m\u001b[43mrandom_state\u001b[49m\u001b[43m)\u001b[49m\n",
      "File \u001b[0;32m~/.local/lib/python3.10/site-packages/scipy/stats/_levy_stable/__init__.py:477\u001b[0m, in \u001b[0;36m_rvs_Z1\u001b[0;34m(alpha, beta, size, random_state)\u001b[0m\n\u001b[1;32m    475\u001b[0m cosTH \u001b[38;5;241m=\u001b[39m np\u001b[38;5;241m.\u001b[39mcos(TH)\n\u001b[1;32m    476\u001b[0m tanTH \u001b[38;5;241m=\u001b[39m np\u001b[38;5;241m.\u001b[39mtan(TH)\n\u001b[0;32m--> 477\u001b[0m res \u001b[38;5;241m=\u001b[39m \u001b[43m_lazywhere\u001b[49m\u001b[43m(\u001b[49m\n\u001b[1;32m    478\u001b[0m \u001b[43m    \u001b[49m\u001b[43malpha\u001b[49m\u001b[43m \u001b[49m\u001b[38;5;241;43m==\u001b[39;49m\u001b[43m \u001b[49m\u001b[38;5;241;43m1\u001b[39;49m\u001b[43m,\u001b[49m\n\u001b[1;32m    479\u001b[0m \u001b[43m    \u001b[49m\u001b[43m(\u001b[49m\u001b[43malpha\u001b[49m\u001b[43m,\u001b[49m\u001b[43m \u001b[49m\u001b[43mbeta\u001b[49m\u001b[43m,\u001b[49m\u001b[43m \u001b[49m\u001b[43mTH\u001b[49m\u001b[43m,\u001b[49m\u001b[43m \u001b[49m\u001b[43maTH\u001b[49m\u001b[43m,\u001b[49m\u001b[43m \u001b[49m\u001b[43mbTH\u001b[49m\u001b[43m,\u001b[49m\u001b[43m \u001b[49m\u001b[43mcosTH\u001b[49m\u001b[43m,\u001b[49m\u001b[43m \u001b[49m\u001b[43mtanTH\u001b[49m\u001b[43m,\u001b[49m\u001b[43m \u001b[49m\u001b[43mW\u001b[49m\u001b[43m)\u001b[49m\u001b[43m,\u001b[49m\n\u001b[1;32m    480\u001b[0m \u001b[43m    \u001b[49m\u001b[43malpha1func\u001b[49m\u001b[43m,\u001b[49m\n\u001b[1;32m    481\u001b[0m \u001b[43m    \u001b[49m\u001b[43mf2\u001b[49m\u001b[38;5;241;43m=\u001b[39;49m\u001b[43malphanot1func\u001b[49m\u001b[43m,\u001b[49m\n\u001b[1;32m    482\u001b[0m \u001b[43m\u001b[49m\u001b[43m)\u001b[49m\n\u001b[1;32m    483\u001b[0m \u001b[38;5;28;01mreturn\u001b[39;00m res\n",
      "File \u001b[0;32m~/.local/lib/python3.10/site-packages/scipy/_lib/_util.py:149\u001b[0m, in \u001b[0;36m_lazywhere\u001b[0;34m(cond, arrays, f, fillvalue, f2)\u001b[0m\n\u001b[1;32m    147\u001b[0m \u001b[38;5;28;01melse\u001b[39;00m:\n\u001b[1;32m    148\u001b[0m     ncond \u001b[38;5;241m=\u001b[39m \u001b[38;5;241m~\u001b[39mcond\n\u001b[0;32m--> 149\u001b[0m     temp2 \u001b[38;5;241m=\u001b[39m xp\u001b[38;5;241m.\u001b[39masarray(\u001b[43mf2\u001b[49m\u001b[43m(\u001b[49m\u001b[38;5;241;43m*\u001b[39;49m\u001b[43m(\u001b[49m\u001b[43marr\u001b[49m\u001b[43m[\u001b[49m\u001b[43mncond\u001b[49m\u001b[43m]\u001b[49m\u001b[43m \u001b[49m\u001b[38;5;28;43;01mfor\u001b[39;49;00m\u001b[43m \u001b[49m\u001b[43marr\u001b[49m\u001b[43m \u001b[49m\u001b[38;5;129;43;01min\u001b[39;49;00m\u001b[43m \u001b[49m\u001b[43marrays\u001b[49m\u001b[43m)\u001b[49m\u001b[43m)\u001b[49m)\n\u001b[1;32m    150\u001b[0m     dtype \u001b[38;5;241m=\u001b[39m xp\u001b[38;5;241m.\u001b[39mresult_type(temp1, temp2)\n\u001b[1;32m    151\u001b[0m     out \u001b[38;5;241m=\u001b[39m xp\u001b[38;5;241m.\u001b[39mempty(cond\u001b[38;5;241m.\u001b[39mshape, dtype\u001b[38;5;241m=\u001b[39mdtype)\n",
      "File \u001b[0;32m~/.local/lib/python3.10/site-packages/scipy/_lib/_util.py:149\u001b[0m, in \u001b[0;36m<genexpr>\u001b[0;34m(.0)\u001b[0m\n\u001b[1;32m    147\u001b[0m \u001b[38;5;28;01melse\u001b[39;00m:\n\u001b[1;32m    148\u001b[0m     ncond \u001b[38;5;241m=\u001b[39m \u001b[38;5;241m~\u001b[39mcond\n\u001b[0;32m--> 149\u001b[0m     temp2 \u001b[38;5;241m=\u001b[39m xp\u001b[38;5;241m.\u001b[39masarray(f2(\u001b[38;5;241m*\u001b[39m(arr[ncond] \u001b[38;5;28;01mfor\u001b[39;00m arr \u001b[38;5;129;01min\u001b[39;00m arrays)))\n\u001b[1;32m    150\u001b[0m     dtype \u001b[38;5;241m=\u001b[39m xp\u001b[38;5;241m.\u001b[39mresult_type(temp1, temp2)\n\u001b[1;32m    151\u001b[0m     out \u001b[38;5;241m=\u001b[39m xp\u001b[38;5;241m.\u001b[39mempty(cond\u001b[38;5;241m.\u001b[39mshape, dtype\u001b[38;5;241m=\u001b[39mdtype)\n",
      "\u001b[0;31mKeyboardInterrupt\u001b[0m: "
     ]
    }
   ],
   "source": [
    "%%time\n",
    "# Attention: Takes about 5 minutes per 1,000 data sets!\n",
    "\n",
    "train_data = model(100000)\n",
    "\n",
    "f = open(\"training_data_posner.obj\",\"wb\")\n",
    "pickle.dump(train_data,f,protocol=4)\n",
    "f.close()"
   ]
  }
 ],
 "metadata": {
  "kernelspec": {
   "display_name": "bayesflow",
   "language": "python",
   "name": "python3"
  },
  "language_info": {
   "codemirror_mode": {
    "name": "ipython",
    "version": 3
   },
   "file_extension": ".py",
   "mimetype": "text/x-python",
   "name": "python",
   "nbconvert_exporter": "python",
   "pygments_lexer": "ipython3",
   "version": "3.10.14"
  }
 },
 "nbformat": 4,
 "nbformat_minor": 2
}
